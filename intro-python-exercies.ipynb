{
 "cells": [
  {
   "cell_type": "code",
   "execution_count": 16,
   "metadata": {},
   "outputs": [
    {
     "data": {
      "text/plain": [
       "11"
      ]
     },
     "execution_count": 16,
     "metadata": {},
     "output_type": "execute_result"
    }
   ],
   "source": [
    "def somme(a,b):\n",
    "    return  a+b\n",
    "\n",
    "somme(2,9)\n",
    "\n"
   ]
  },
  {
   "cell_type": "code",
   "execution_count": 6,
   "metadata": {},
   "outputs": [
    {
     "data": {
      "text/plain": [
       "42"
      ]
     },
     "execution_count": 6,
     "metadata": {},
     "output_type": "execute_result"
    }
   ],
   "source": [
    "def somme(list):\n",
    "    somme=0\n",
    "    for i in list:\n",
    "        somme = somme + i\n",
    "    return somme\n",
    "list=[2,5,9,14,12]\n",
    "somme(list)"
   ]
  },
  {
   "cell_type": "code",
   "execution_count": 39,
   "metadata": {},
   "outputs": [
    {
     "name": "stdout",
     "output_type": "stream",
     "text": [
      "True\n"
     ]
    }
   ],
   "source": [
    "def is_string(mot,mot2,mot3):\n",
    "    if type(mot)==str:\n",
    "        return True\n",
    "    elif type(mot2)==str:\n",
    "        return True\n",
    "    elif type(mot3)==str:\n",
    "        return True\n",
    "    else:\n",
    "        return False\n",
    "    \n",
    "print(is_string(2, \"toi\", 4.2))"
   ]
  },
  {
   "cell_type": "code",
   "execution_count": 13,
   "metadata": {},
   "outputs": [
    {
     "name": "stdout",
     "output_type": "stream",
     "text": [
      "True\n"
     ]
    }
   ],
   "source": [
    "def has_string(liste2):\n",
    "    \n",
    "    for i in liste2:\n",
    "        \n",
    "        if type(i)==str:\n",
    "            \n",
    "            return True\n",
    "        \n",
    "            \n",
    "    return False\n",
    "    \n",
    "print(has_string([2, 3, 4.2, 6, 7, \"yes\"]))\n"
   ]
  },
  {
   "cell_type": "code",
   "execution_count": 15,
   "metadata": {},
   "outputs": [
    {
     "name": "stdout",
     "output_type": "stream",
     "text": [
      "True\n"
     ]
    }
   ],
   "source": [
    "def has_only_string(liste2):\n",
    "    \n",
    "    for i in liste2:\n",
    "        \n",
    "        if type(liste2[i])==str:\n",
    "            \n",
    "            return True\n",
    "        \n",
    "    return False\n",
    "    \n",
    "print(has_only_string([2, 3, 4.2, \"oulala\"]))\n"
   ]
  },
  {
   "cell_type": "code",
   "execution_count": 54,
   "metadata": {},
   "outputs": [
    {
     "name": "stdout",
     "output_type": "stream",
     "text": [
      "fizzbuzz\n"
     ]
    }
   ],
   "source": [
    "#Créer une fonction fizzbuzz. Elle prend un paramètre : number.\n",
    "#Si ce paramètre est un multiple de 3, la fonction renvoie \"Fizz\".\n",
    "#Si ce paramètre est un multiple de 5, la fonction renvoie \"Buzz\".\n",
    "#Si ce paramètre est un multiple de 3 et un multiple de 5, la fonction renvoie \"FizzBuzz\".\n",
    "#Sinon, elle renvoit le paramètre.\n",
    "\n",
    "def fizzbuzz(number):\n",
    "    \n",
    "            if (number % 3 and number % 5) == 0 :\n",
    "                return \"fizzbuzz\"\n",
    "            \n",
    "            elif number % 3 == 0:\n",
    "                return \"fizz\"\n",
    "    \n",
    "            elif number % 5 == 0:\n",
    "                return \"buzz\"\n",
    "    \n",
    "            \n",
    "            return number\n",
    "\n",
    "print(fizzbuzz(15))"
   ]
  },
  {
   "cell_type": "code",
   "execution_count": 4,
   "metadata": {},
   "outputs": [],
   "source": [
    "class Car:\n",
    "\t\n",
    "    def __init__(self):\n",
    "        self.color = \"black\"\n",
    "        self.nb_wheels = 4\n",
    "        self.brand = \"Tesla\"\n",
    "        self.position = 0\n",
    "    \n",
    "    def get_color(self):\n",
    "        return self.get_color\n",
    "    \n",
    "    def get_nb_wheels(self):\n",
    "        return self.get_nb_wheels\n",
    "           \n",
    "    def get_brand(self):\n",
    "        return self.get_brand\n",
    "    \n",
    "    def get_position(self):\n",
    "        return self.get_position\n",
    "\n",
    "    def set_color(self, x):\n",
    "        self.color = x\n",
    "        \n",
    "    def set_nb_wheels(self, x):\n",
    "        self.nb_wheels = x\n",
    "        \n",
    "    def set_brand(self, x):\n",
    "        self.brand = x\n",
    "        \n",
    "    def set_position(self, x):\n",
    "        self.position = x\n",
    "        \n",
    "    def move(self):\n",
    "        self.position += 1\n",
    "        "
   ]
  },
  {
   "cell_type": "code",
   "execution_count": 221,
   "metadata": {},
   "outputs": [
    {
     "name": "stdout",
     "output_type": "stream",
     "text": [
      "black\n",
      "Ford\n",
      "Yellow\n",
      "La position de la Ford est la N° 4\n"
     ]
    }
   ],
   "source": [
    "Peugeot_208 = Car()\n",
    "Peugeot_208.color\n",
    "print(Peugeot_208.color)\n",
    "\n",
    "Ford_Fiesta = Car()\n",
    "Ford_Fiesta.set_brand(\"Ford\")\n",
    "Ford_Fiesta.set_color(\"Yellow\")\n",
    "Ford_Fiesta.brand\n",
    "\n",
    "\n",
    "print(Ford_Fiesta.brand)\n",
    "print(Ford_Fiesta.color)\n",
    "\n",
    "\n",
    "Ford_Fiesta.move()\n",
    "Ford_Fiesta.move()\n",
    "Ford_Fiesta.move()\n",
    "Ford_Fiesta.move()\n",
    "\n",
    "print(\"La position de la Ford est la N°\", Ford_Fiesta.position)"
   ]
  },
  {
   "cell_type": "code",
   "execution_count": 2,
   "metadata": {},
   "outputs": [],
   "source": [
    "class Calculator:\n",
    "    \n",
    "    def __init__(self, bn):\n",
    "        self.bn=bn\n",
    "    \n",
    "    def get_bn (self):\n",
    "        return self.bn\n",
    "         \n",
    "    #add a number\n",
    "    def add(self, x):\n",
    "        self.bn += x\n",
    "       \n",
    "    #subtract a number\n",
    "    def subtract(self,x):\n",
    "        self.bn -= x\n",
    "    \n",
    "    #multiply a number\n",
    "    def multiply(self, x):\n",
    "        self.bn *= x\n",
    "        \n",
    "    def reset(self, x=0):\n",
    "        self.bn = x\n",
    "    \n",
    "    #divide a number\n",
    "    def divide(self, x):\n",
    "        self.bn /= x\n",
    "            \n",
    "    #is multiple of 3\n",
    "    def isMultipleOf(self, x):\n",
    "        if self.bn % x == 0 :\n",
    "            return True\n",
    "        else :\n",
    "            return False\n",
    "    #exposant au carré\n",
    "    def power(self,x):\n",
    "        self.bn **= x\n",
    "        \n",
    "    #Est-ce dans une liste ?\n",
    "    def isInList(self, x):\n",
    "        for i in x:\n",
    "            if i == self.bn:\n",
    "                return True\n",
    "        return False\n",
    "    \n",
    "    #Get quotient and remainder\n",
    "    \n",
    "    def getQuotientAndRemainderBy(self, x):\n",
    "        print(self.bn // x, self.bn % x)\n",
    "        \n",
    "    def getInferiorIntegers(self):\n",
    "        list1 = []\n",
    "        for i in range(1, self.bn):\n",
    "            list1.append(i)\n",
    "        return list1\n",
    "        \n"
   ]
  },
  {
   "cell_type": "code",
   "execution_count": 3,
   "metadata": {},
   "outputs": [
    {
     "name": "stdout",
     "output_type": "stream",
     "text": [
      "10.0 0.0\n",
      "12.0 2.0\n",
      "4.0 6.0\n"
     ]
    },
    {
     "data": {
      "text/plain": [
       "[1, 2, 3, 4, 5, 6]"
      ]
     },
     "execution_count": 3,
     "metadata": {},
     "output_type": "execute_result"
    }
   ],
   "source": [
    "myCalc = Calculator(10)\n",
    "\n",
    "myCalc.get_bn()\n",
    "\n",
    "myCalc.add(3)\n",
    "myCalc.get_bn()\n",
    "\n",
    "myCalc.multiply(2)\n",
    "myCalc.get_bn()\n",
    "\n",
    "myCalc.subtract(6)\n",
    "myCalc.get_bn()\n",
    "\n",
    "myCalc.reset()\n",
    "myCalc.get_bn()\n",
    "\n",
    "myCalc.add(10)\n",
    "myCalc.get_bn()\n",
    "\n",
    "myCalc.isMultipleOf(3)\n",
    "myCalc.isMultipleOf(5)\n",
    "\n",
    "myCalc.power(2)\n",
    "myCalc.get_bn()\n",
    "\n",
    "myCalc.divide(2)\n",
    "myCalc.get_bn()\n",
    "\n",
    "myCalc.isInList([1,2,3])\n",
    "myCalc.isInList([1,2,50])\n",
    "\n",
    "myCalc.getQuotientAndRemainderBy(5)\n",
    "myCalc.getQuotientAndRemainderBy(4)\n",
    "myCalc.getQuotientAndRemainderBy(11)\n",
    "\n",
    "myCalc.reset(7)\n",
    "myCalc.get_bn()\n",
    "myCalc.getInferiorIntegers()"
   ]
  },
  {
   "cell_type": "code",
   "execution_count": null,
   "metadata": {},
   "outputs": [],
   "source": []
  },
  {
   "cell_type": "code",
   "execution_count": null,
   "metadata": {},
   "outputs": [],
   "source": []
  },
  {
   "cell_type": "code",
   "execution_count": null,
   "metadata": {},
   "outputs": [],
   "source": []
  },
  {
   "cell_type": "code",
   "execution_count": null,
   "metadata": {},
   "outputs": [],
   "source": []
  }
 ],
 "metadata": {
  "kernelspec": {
   "display_name": "Python 3",
   "language": "python",
   "name": "python3"
  },
  "language_info": {
   "codemirror_mode": {
    "name": "ipython",
    "version": 3
   },
   "file_extension": ".py",
   "mimetype": "text/x-python",
   "name": "python",
   "nbconvert_exporter": "python",
   "pygments_lexer": "ipython3",
   "version": "3.8.5"
  }
 },
 "nbformat": 4,
 "nbformat_minor": 4
}
