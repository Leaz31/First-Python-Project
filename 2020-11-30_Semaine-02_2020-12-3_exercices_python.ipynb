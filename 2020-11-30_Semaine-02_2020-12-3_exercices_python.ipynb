{
 "cells": [
  {
   "cell_type": "markdown",
   "metadata": {},
   "source": [
    "## Exercice 1\n",
    "Écrire une boucle affichant et incrémentant la valeur d'une variable a tant qu’elle reste inférieure à celle d'une variable b.\n",
    "Écrire une autre boucle décrémentant la valeur de b et affichant sa valeur si elle est impaire."
   ]
  },
  {
   "cell_type": "code",
   "execution_count": 71,
   "metadata": {},
   "outputs": [
    {
     "name": "stdout",
     "output_type": "stream",
     "text": [
      "\n",
      "\n",
      "A est égal à 15\n",
      "A est égal à 16\n",
      "A est égal à 17\n",
      "A est égal à 18\n",
      "\n",
      "\n",
      "B est impair et fait 19\n",
      "B est impair et fait 17\n",
      "B est impair et fait 15\n",
      "B est impair et fait 13\n",
      "B est impair et fait 11\n",
      "B est impair et fait 9\n",
      "B est impair et fait 7\n",
      "B est impair et fait 5\n",
      "B est impair et fait 3\n",
      "B est impair et fait 1\n"
     ]
    }
   ],
   "source": [
    "# Votre réponse\n",
    "\n",
    "\n",
    "a=15\n",
    "b=20\n",
    "\n",
    "#boucle affichant et incrémentant la valeur d'une variable a \n",
    "\n",
    "\n",
    "print(\"\\n\")\n",
    "for i in range(a, b-1):\n",
    "    print(\"A est égal à\", i)\n",
    "print(\"\\n\")\n",
    "        \n",
    "#boucle décrémentant la valeur de b\n",
    "\n",
    "for i in range(b, 0, -1):\n",
    "#Afficher la valeur de b si elle est impaire\n",
    "        b = b-1\n",
    "        if b%2 == 1 :\n",
    "            print(\"B est impair et fait\", b)\n",
    "        "
   ]
  },
  {
   "cell_type": "markdown",
   "metadata": {},
   "source": [
    "## Exercice 2\n",
    "Affichez chaque caractère d’une chaîne en utilisant une boucle for. Affichez chaque élément d’une liste en utilisant une boucle for."
   ]
  },
  {
   "cell_type": "code",
   "execution_count": 72,
   "metadata": {},
   "outputs": [
    {
     "name": "stdout",
     "output_type": "stream",
     "text": [
      "Affichez chaque caractère d'une chaîne en utilisant une boucle for : \n",
      "\n",
      "E\n",
      "t\n",
      "r\n",
      "e\n",
      " \n",
      "d\n",
      "e\n",
      "v\n",
      " \n",
      "I\n",
      "A\n",
      " \n",
      "c\n",
      "'\n",
      "e\n",
      "s\n",
      "t\n",
      " \n",
      "l\n",
      "e\n",
      " \n",
      "p\n",
      "i\n",
      "e\n",
      "d\n",
      "\n",
      "\n",
      "Affichez chaque élément d'une liste en utilisant une boucle for : \n",
      "\n",
      "10\n",
      "20\n",
      "30\n",
      "40\n",
      "50\n"
     ]
    }
   ],
   "source": [
    "# Votre réponse\n",
    "\n",
    "chaine = \"Etre dev IA c'est le pied\"\n",
    "liste = [10, 20, 30, 40, 50]\n",
    "\n",
    "print(\"Affichez chaque caractère d'une chaîne en utilisant une boucle for :\",\"\\n\")\n",
    "for i in chaine:\n",
    "    print(i)\n",
    "\n",
    "print(\"\\n\")\n",
    "print(\"Affichez chaque élément d'une liste en utilisant une boucle for :\", \"\\n\")\n",
    "for i in liste:\n",
    "    print(i)\n",
    "    \n",
    "\n"
   ]
  },
  {
   "cell_type": "markdown",
   "metadata": {},
   "source": [
    "## Exercice 3\n",
    "\n",
    "Affichez les entiers de 0 à 15 non compris,de trois en trois"
   ]
  },
  {
   "cell_type": "code",
   "execution_count": 73,
   "metadata": {},
   "outputs": [
    {
     "name": "stdout",
     "output_type": "stream",
     "text": [
      "0\n",
      "3\n",
      "6\n",
      "9\n",
      "12\n"
     ]
    }
   ],
   "source": [
    "for i in range(0,15,3) :\n",
    "    print(i)"
   ]
  },
  {
   "cell_type": "markdown",
   "metadata": {},
   "source": [
    "## Exercice 4\n",
    "\n",
    "Utilisez l’instruction break pour interrompre une boucle for d’affichage des entiers de 1 à 10 compris, lorsque la variable de boucle vaut 5."
   ]
  },
  {
   "cell_type": "code",
   "execution_count": 74,
   "metadata": {},
   "outputs": [
    {
     "name": "stdout",
     "output_type": "stream",
     "text": [
      "Comptons jusqu'a 5.. : 1\n",
      "Comptons jusqu'a 5.. : 2\n",
      "Comptons jusqu'a 5.. : 3\n",
      "Comptons jusqu'a 5.. : 4\n"
     ]
    }
   ],
   "source": [
    "for i in range(1,10):\n",
    "    if i == 5:\n",
    "        break\n",
    "    print(\"Comptons jusqu'a 5.. :\",i)"
   ]
  },
  {
   "cell_type": "markdown",
   "metadata": {},
   "source": [
    "## Exercice 5\n",
    "\n",
    "Utilisez l’instruction continue pour modifier une boucle for d’affichage de tous en- tiers de 1 à 10 compris, sauf lorsque la variable de boucle vaut 5."
   ]
  },
  {
   "cell_type": "code",
   "execution_count": 75,
   "metadata": {},
   "outputs": [
    {
     "name": "stdout",
     "output_type": "stream",
     "text": [
      "1\n",
      "2\n",
      "3\n",
      "4\n",
      "6\n",
      "7\n",
      "8\n",
      "9\n"
     ]
    }
   ],
   "source": [
    "for i in range(1,10):\n",
    "    if i == 5:\n",
    "        continue\n",
    "    else :\n",
    "        print(i)"
   ]
  },
  {
   "cell_type": "markdown",
   "metadata": {},
   "source": [
    "## Exercice 6\n",
    "Écrire une fonction cube qui retourne le cube de son argument."
   ]
  },
  {
   "cell_type": "code",
   "execution_count": 121,
   "metadata": {},
   "outputs": [
    {
     "data": {
      "text/plain": [
       "1000"
      ]
     },
     "execution_count": 121,
     "metadata": {},
     "output_type": "execute_result"
    }
   ],
   "source": [
    "def cubix(x):\n",
    "    return x**3\n",
    "    \n",
    "cubix(10)\n"
   ]
  },
  {
   "cell_type": "markdown",
   "metadata": {},
   "source": [
    "## Exercice 7\n",
    "Écrire une fonction volumeSphere qui calcule le volume d’une sphère de rayon r fourni en argument et qui utilise la fonction cube."
   ]
  },
  {
   "cell_type": "code",
   "execution_count": 122,
   "metadata": {},
   "outputs": [
    {
     "name": "stdout",
     "output_type": "stream",
     "text": [
      "Le volume de la sphere est  113.09733552923254 cm3\n"
     ]
    }
   ],
   "source": [
    "from math import pi\n",
    "\n",
    "def volumeSphere(r):\n",
    "    v=(4/3)*pi*(cubix(r))\n",
    "    print('Le volume de la sphere est ', v, 'cm3')\n",
    "\n",
    "volumeSphere(3)"
   ]
  },
  {
   "cell_type": "markdown",
   "metadata": {},
   "source": [
    "## Exercice 8\n",
    "\n",
    "Écrire une fonction qui retourne $ f (x) = 2x ^ 3 + x − 5 $"
   ]
  },
  {
   "cell_type": "code",
   "execution_count": 73,
   "metadata": {},
   "outputs": [
    {
     "name": "stdout",
     "output_type": "stream",
     "text": [
      "13\n"
     ]
    }
   ],
   "source": [
    "def fonctionCompliquee(x):\n",
    "    v=(2*(x**3))+x-5\n",
    "    print(v)\n",
    "\n",
    "fonctionCompliquee(2)"
   ]
  },
  {
   "cell_type": "markdown",
   "metadata": {},
   "source": [
    "## Exercice 9\n",
    "\n",
    "définir la liste : liste =[17, 38, 10, 25, 72], puis effectuez les actions suivantes :\n",
    "* triez et affichez la liste;\n",
    "* ajoutez l’élément 12 à la liste et affichez la liste;\n",
    "* renversez et affichez la liste;\n",
    "* affichez l’indice de l’élément 17;\n",
    "* enlevez l’élément 38 et affichez la liste;\n",
    "* affichez la sous-liste du 2e au 3e élément;\n",
    "* affichez la sous-liste du début au 2e élément;\n",
    "* affichez la sous-liste du 3e élément à la fin de la liste;\n",
    "* affichez le dernier élément en utilisant un indice négatif."
   ]
  },
  {
   "cell_type": "code",
   "execution_count": 104,
   "metadata": {},
   "outputs": [
    {
     "name": "stdout",
     "output_type": "stream",
     "text": [
      "[10, 17, 25, 38, 72]\n",
      "[10, 17, 25, 38, 72, 12]\n",
      "[12, 72, 38, 25, 17, 10]\n",
      "L'indice de l'élément 17 est le n° 4\n",
      "[12, 72, 25, 17, 10]\n",
      "Voici le 2e et le 3e élément de la liste : [25, 17]\n",
      "voici le premier et le 2e élément de la liste : [12, 72]\n",
      "Voici les éléments du 3e à la fin : [25, 17, 10]\n",
      "Voici le dernier élément : 10\n"
     ]
    }
   ],
   "source": [
    "\n",
    "# Définir la liste\n",
    "\n",
    "liste =[17, 38, 10, 25, 72]\n",
    "#Triez et affichez la liste\n",
    "liste.sort()\n",
    "print(liste)\n",
    "\n",
    "#On ajoute 12 et on affiche la liste\n",
    "liste.append(12)\n",
    "print(liste)\n",
    "\n",
    "#Renversez et affichez la liste\n",
    "liste.reverse()\n",
    "print(liste)\n",
    "\n",
    "#Affichez l'indice de l'élément 17\n",
    "liste.index(17)\n",
    "print(\"L'indice de l'élément 17 est le n°\", liste.index(17))\n",
    "\n",
    "#Enlevez l'élément 38 et affichez la liste\n",
    "liste.remove(38)\n",
    "print(liste)\n",
    "\n",
    "#Affichez la sous-liste, du 2e au 3e élément \n",
    "print(\"Voici le 2e et le 3e élément de la liste :\",liste[2:4])\n",
    "\n",
    "#Affichez la sous-liste du début au 2e élément\n",
    "print(\"voici le premier et le 2e élément de la liste :\",liste[0:2])\n",
    "\n",
    "#Affichez la sous-liste du 3e élément à la fin de la liste\n",
    "print(\"Voici les éléments du 3e à la fin :\",liste[2:len(liste)])\n",
    "\n",
    "#Affichez le dernier élément en utilisant un indice négatif\n",
    "print(\"Voici le dernier élément :\",liste[-1])"
   ]
  },
  {
   "cell_type": "markdown",
   "metadata": {},
   "source": [
    "## Exercice 10\n",
    "\n",
    "Écrire une fonction qui renvoie la liste ['ad', 'ae', 'bd', 'be', 'cd', 'ce'] à partir des chaînes \"abc\" et \"de\"."
   ]
  },
  {
   "cell_type": "code",
   "execution_count": 113,
   "metadata": {},
   "outputs": [
    {
     "data": {
      "text/plain": [
       "['ad', 'ae', 'bd', 'be', 'cd', 'ce']"
      ]
     },
     "execution_count": 113,
     "metadata": {},
     "output_type": "execute_result"
    }
   ],
   "source": [
    "#On veut prendre le premier élément de la liste 1, l'ajouter au premier élément de la liste 2, \n",
    "#puis au premier élément de la liste 2, puis au deuxième élément de liste 1, etc\n",
    "\n",
    "maListe=[(x+y) \n",
    "         for x in ('a','b', 'c') \n",
    "         for y in ('d', 'e')] \n",
    "maListe"
   ]
  },
  {
   "cell_type": "markdown",
   "metadata": {},
   "source": [
    "## Exercice 11\n",
    "\n",
    "Définir deux ensembles (sets) : X = {a,b,c,d} et Y = {s,b,d}, puis affichez les résultats suivants \n",
    "\n",
    "* les ensembles initiaux;\n",
    "* le test d’appartenance de l’élément 'c' à X;\n",
    "* le test d’appartenance de l’élément 'a' à Y ;\n",
    "* les ensembles X − Y et Y − X ;\n",
    "* l’ensemble X ∪ Y (union) ;\n",
    "* l’ensemble X ∩ Y (intersection)."
   ]
  },
  {
   "cell_type": "code",
   "execution_count": 81,
   "metadata": {},
   "outputs": [
    {
     "name": "stdout",
     "output_type": "stream",
     "text": [
      "Les ensemble initiaux : {'c', 'b', 'a', 'd'} {'d', 'b', 's'}\n",
      "Est-ce que 'c' est dans X ? True\n",
      "Est-ce que 'a' est dans Y ? False\n",
      "La liste X moins la liste Y : {'c', 'a'}\n",
      "la liste Y moins la liste X: {'s'}\n",
      "Union des deux listes : {'d', 'b', 'a', 'c', 's'}\n",
      "Intersection des deux listes {'d', 'b'}\n"
     ]
    }
   ],
   "source": [
    "X= {'a','b','c','d'}\n",
    "Y= {'s','b','d'}\n",
    "\n",
    "print(\"Les ensemble initiaux :\",X,Y)\n",
    "print(\"Est-ce que 'c' est dans X ?\", 'c' in X)\n",
    "print(\"Est-ce que 'a' est dans Y ?\", 'a' in Y)\n",
    "print(\"La liste X moins la liste Y :\", X - Y)\n",
    "print(\"la liste Y moins la liste X:\", Y - X)\n",
    "print(\"Union des deux listes :\", X | Y)\n",
    "print(\"Intersection des deux listes\", X&Y)"
   ]
  },
  {
   "cell_type": "markdown",
   "metadata": {},
   "source": [
    "## Exercice 12\n",
    "Écrire une fonction ayant un argument (une chaîne de caractères) er qui renvoie un dictionnaire qui contient la fréquence de tous les mots de la chaîne entrée."
   ]
  },
  {
   "cell_type": "code",
   "execution_count": 155,
   "metadata": {},
   "outputs": [
    {
     "data": {
      "text/plain": [
       "{'Liste': 2,\n",
       " 'de': 1,\n",
       " 'test': 2,\n",
       " 'pour': 1,\n",
       " 'voir': 1,\n",
       " 'si': 1,\n",
       " 'le': 1,\n",
       " 'sur': 1,\n",
       " 'la': 2,\n",
       " 'fonctionne.': 1,\n",
       " 'A': 1,\n",
       " 'priori': 1,\n",
       " \"c'est\": 1,\n",
       " 'sensible': 1,\n",
       " 'à': 1,\n",
       " 'casse': 1,\n",
       " 'et': 1,\n",
       " 'ne': 1,\n",
       " 'fonctionne': 1,\n",
       " \"qu'avec\": 1,\n",
       " 'des': 1,\n",
       " 'caractères': 1,\n",
       " 'strictement': 1,\n",
       " 'identiques': 1}"
      ]
     },
     "execution_count": 155,
     "metadata": {},
     "output_type": "execute_result"
    }
   ],
   "source": [
    "\"\"\"from collections import Counter\n",
    "\n",
    "x=\"Voici la liste à tester qui nous renvoie un dictionnaire qui contient la fréquence de tous les mots de la chaîne entrée\"\n",
    "\n",
    "cnt=Counter()\n",
    "for word in ['Voici','la','liste','à','tester','qui','nous','renvoie','un','dictionnaire','qui','contient','la','fréquence','de','tous','les','mots','de','la','chaîne','entrée']:\n",
    "    cnt[word] += 1\n",
    "\n",
    "print(\"Voici le dictionnaire :\")\n",
    "cnt\"\"\"\n",
    "\n",
    "\n",
    "def fct_count(texte):\n",
    "    #Je definis un dictionnaire vide pour ma fonction\n",
    "    dict = {}\n",
    "    #Je transforme le texte en liste de mot grace à .split() et je laisse les crochets vide pour signifier un espace.\n",
    "    liste_de_mot = texte.split()\n",
    "    #J'appelle les mots dans ma liste de mot.\n",
    "    for mot in liste_de_mot:\n",
    "        #Si le mot est deja dans le dict je lui ajoute +1\n",
    "        if mot in dict:\n",
    "            dict[mot] = dict[mot] + 1\n",
    "        #Sinon j'ajoute celui dans le dictionnaire\n",
    "        else:\n",
    "            dict[mot] = 1\n",
    "        #Je retourne le dictionnaire\n",
    "    return dict\n",
    "\n",
    "fct_count(\"Liste de test pour voir si le test sur la Liste fonctionne. A priori c'est sensible à la casse et ne fonctionne qu'avec des caractères strictement identiques\")"
   ]
  },
  {
   "cell_type": "markdown",
   "metadata": {},
   "source": [
    "## Exercice 13\n",
    "\n",
    "Implémentez une pile LIFO avec une liste. Pour cela, définir trois fonctions :\n",
    "* pile : qui retourne une pile à partir d’une liste variable d’éléments passés en para- mètre ;\n",
    "* empile: empile un élément en «haut» de la pile;\n",
    "* depile: dépile un élément du «haut» de la pile."
   ]
  },
  {
   "cell_type": "code",
   "execution_count": 6,
   "metadata": {},
   "outputs": [
    {
     "name": "stdout",
     "output_type": "stream",
     "text": [
      "[]\n",
      "[4]\n",
      "[4, 0, 1, 2, 3, 4, 5, 6, 7, 8, 9]\n",
      "[4, 0, 1, 2, 3, 4, 5, 6, 7, 8]\n"
     ]
    }
   ],
   "source": [
    "class MyStack:\n",
    "    def __init__(self):\n",
    "        self.stack = []\n",
    "        \n",
    "    def pile (self):\n",
    "        return self.stack\n",
    "    \n",
    "    def empile(self,item):\n",
    "        self.stack.append(item)\n",
    "    \n",
    "    def depile(self):\n",
    "        if len(self.stack) == 0:\n",
    "            return None\n",
    "        return self.stack.pop()\n",
    "\n",
    "stac = MyStack()\n",
    "print(stac.pile())\n",
    "stac.empile(4)\n",
    "print(stac.pile())\n",
    "\n",
    "for i in range(10):\n",
    "    stac.empile(i)\n",
    "print(stac.pile())\n",
    "stac.depile()\n",
    "print(stac.pile())"
   ]
  },
  {
   "cell_type": "markdown",
   "metadata": {},
   "source": [
    "## Exercice 14\n",
    "Définir une classe possédant les attributs suivants:\n",
    "* données: deux attributs de classes: x = 23 et y = x + 5.\n",
    "* méthode : une méthode affiche contenant un attribut d’instance z = 42 et les affichages de y et de z.\n",
    "\n",
    "Dans le programme principal, instanciez un objet de la classe et invoquez la méthode affiche."
   ]
  },
  {
   "cell_type": "code",
   "execution_count": 33,
   "metadata": {},
   "outputs": [
    {
     "name": "stdout",
     "output_type": "stream",
     "text": [
      " Voici y : 28 \n",
      " Voici z : 42\n"
     ]
    }
   ],
   "source": [
    "class Patator :\n",
    "    x = 23\n",
    "    y = x + 5\n",
    "       \n",
    "    def affiche(self):\n",
    "        self.z=42\n",
    "        print(\" Voici y :\", self.y , \"\\n\" ,\"Voici z :\",self.z)\n",
    "        \n",
    "test = Patator()\n",
    "test.affiche()\n"
   ]
  },
  {
   "cell_type": "markdown",
   "metadata": {},
   "source": [
    "## Exercice 15\n",
    "Définir une classe Vecteur2D avec un constructeur fournissant les coordonnées par défaut d’un vecteur du plan (par exemple : x = 0 et y = 0).\n",
    "\n",
    "Dans le programme principal, instanciez un Vecteur2D sans paramètre, un Vecteur2D avec ses deux paramètres, et affichez-les."
   ]
  },
  {
   "cell_type": "code",
   "execution_count": 1,
   "metadata": {},
   "outputs": [
    {
     "name": "stdout",
     "output_type": "stream",
     "text": [
      "x,y : 0 0\n",
      "x,y : 6 8\n"
     ]
    },
    {
     "data": {
      "text/plain": [
       "'#Code de Claire\\nclass vecteur2D():\\n    def __init__(self,x=0,y=0):\\n        self.x=x\\n        self.y=y\\n\\n    def affiche(self):\\n        print(\\'x,y :\\', self.x,self.y)\\n\\nmv1=vecteur2D()\\nmv1.affiche()\\n\\nmv2=vecteur2D(6,8)\\nmv2.affiche()\\n\\n#Code de Nawel\\nclass Vecteur2D:\\n    def __init__(self, x = 0, y = 0):\\n        print(\"x =\", x, \"et y =\", y)\\n        \\nobject_1 = Vecteur2D()\\nobject_2 = Vecteur2D(2, 4)'"
      ]
     },
     "execution_count": 1,
     "metadata": {},
     "output_type": "execute_result"
    }
   ],
   "source": [
    "# Mon code qui marche pas\n",
    "\"\"\"import numpy as np\n",
    "\n",
    "class Vecteur2D: \n",
    "    for i in new_text:\n",
    "            \n",
    "            if self.quantity_ink > 0 :\n",
    "                self.quantity_ink -= 1\n",
    "                print(self.quantity_ink)\n",
    "                print(i)\n",
    "            else : \n",
    "                try:\n",
    "                    if quantity_ink == 0:\n",
    "                        raise Exception()\n",
    "                except Exception as error:\n",
    "                    print(\"Il n'y a plus d'encre\")\n",
    "    def __init__(self, x, y):\n",
    "        vecteur = np.array([x],[y])\n",
    "        \n",
    "vecteur1 = Vecteur2D(1,2)\n",
    "vecteur2 = Vecteur2D(1,2)\"\"\"\n",
    "\n",
    "#Code d'Anicet\n",
    "class vecteur2D():\n",
    "    def __init__(self,x=0,y=0):\n",
    "        self.x=x\n",
    "        self.y=y\n",
    "\n",
    "    def affiche(self):\n",
    "        print('x,y :', self.x,self.y)\n",
    "\n",
    "mv1=vecteur2D()\n",
    "mv1.affiche()\n",
    "\n",
    "mv2=vecteur2D(6,8)\n",
    "mv2.affiche()\n",
    "\n",
    "\"\"\"#Code de Claire\n",
    "class vecteur2D():\n",
    "    def __init__(self,x=0,y=0):\n",
    "        self.x=x\n",
    "        self.y=y\n",
    "\n",
    "    def affiche(self):\n",
    "        print('x,y :', self.x,self.y)\n",
    "\n",
    "mv1=vecteur2D()\n",
    "mv1.affiche()\n",
    "\n",
    "mv2=vecteur2D(6,8)\n",
    "mv2.affiche()\n",
    "\n",
    "#Code de Nawel\n",
    "class Vecteur2D:\n",
    "    def __init__(self, x = 0, y = 0):\n",
    "        print(\"x =\", x, \"et y =\", y)\n",
    "        \n",
    "object_1 = Vecteur2D()\n",
    "object_2 = Vecteur2D(2, 4)\"\"\""
   ]
  },
  {
   "cell_type": "markdown",
   "metadata": {},
   "source": [
    "for i in new_text:\n",
    "            \n",
    "            if self.quantity_ink > 0 :\n",
    "                self.quantity_ink -= 1\n",
    "                print(self.quantity_ink)\n",
    "                print(i)\n",
    "            else : \n",
    "                try:\n",
    "                    if quantity_ink == 0:\n",
    "                        raise Exception()\n",
    "                except Exception as error:\n",
    "                    print(\"Il n'y a plus d'encre\")## Exercice 16\n",
    "\n",
    "Définir une classe Rectangle avec un constructeur donnant des valeurs(longueur et largeur) par défaut et un attribut nom = \"rectangle\", une méthode d’affichage et une méthode surface renvoyant la surface d’une instance."
   ]
  },
  {
   "cell_type": "code",
   "execution_count": 84,
   "metadata": {},
   "outputs": [
    {
     "name": "stdout",
     "output_type": "stream",
     "text": [
      "Largeur du rectangle = 2 \n",
      "Longueur du rectangle = 3 \n",
      "Nom = Rectangle\n",
      "None\n"
     ]
    }
   ],
   "source": [
    "\n",
    "#16: class rectangle\n",
    "class Rectangle:\n",
    "    def __init__(self, L=0, l=0, nom=\"Rectangle\"):\n",
    "        self.nom = nom\n",
    "        self.L = L\n",
    "        self.l = l\n",
    "    def get_L(self):\n",
    "        return self.L\n",
    "    def get_l(self):\n",
    "        return self.l\n",
    "    def get_surf(self):\n",
    "        return self.l * self.L\n",
    "    def affichage(self):\n",
    "        print(\"Largeur du rectangle =\",self.L,\"\\nLongueur du rectangle =\",self.l, \"\\nNom =\", self.nom)\n",
    "\n",
    "#Mon objet R1 est mon premier rectangle de largeur L=2\n",
    "#et le longueur l=3\n",
    "R1=Rectangle(2,3)\n",
    "print (R1.affichage())\n",
    "\n"
   ]
  },
  {
   "cell_type": "markdown",
   "metadata": {},
   "source": [
    "## Exercice 17\n",
    "\n",
    "Définir une classe Carre héritant de Rectangle et qui surcharge l’attribut d’instance : nom = \"carré\".\n",
    "\n",
    "Instanciez un Rectangle et un Carre et affichez-les."
   ]
  },
  {
   "cell_type": "code",
   "execution_count": 41,
   "metadata": {},
   "outputs": [
    {
     "ename": "NameError",
     "evalue": "name 'Rectangle' is not defined",
     "output_type": "error",
     "traceback": [
      "\u001b[0;31m---------------------------------------------------------------------------\u001b[0m",
      "\u001b[0;31mNameError\u001b[0m                                 Traceback (most recent call last)",
      "\u001b[0;32m<ipython-input-41-69d8b2189e66>\u001b[0m in \u001b[0;36m<module>\u001b[0;34m\u001b[0m\n\u001b[1;32m      1\u001b[0m \u001b[0;31m# Votre réponse\u001b[0m\u001b[0;34m\u001b[0m\u001b[0;34m\u001b[0m\u001b[0;34m\u001b[0m\u001b[0m\n\u001b[1;32m      2\u001b[0m \u001b[0;34m\u001b[0m\u001b[0m\n\u001b[0;32m----> 3\u001b[0;31m \u001b[0;32mclass\u001b[0m \u001b[0mCarre\u001b[0m\u001b[0;34m(\u001b[0m\u001b[0mRectangle\u001b[0m\u001b[0;34m)\u001b[0m\u001b[0;34m:\u001b[0m\u001b[0;34m\u001b[0m\u001b[0;34m\u001b[0m\u001b[0m\n\u001b[0m\u001b[1;32m      4\u001b[0m     \u001b[0;32mdef\u001b[0m \u001b[0m__init__\u001b[0m\u001b[0;34m(\u001b[0m\u001b[0mself\u001b[0m\u001b[0;34m)\u001b[0m\u001b[0;34m:\u001b[0m\u001b[0;34m\u001b[0m\u001b[0;34m\u001b[0m\u001b[0m\n\u001b[1;32m      5\u001b[0m         \u001b[0mRectangle\u001b[0m\u001b[0;34m.\u001b[0m\u001b[0m__init__\u001b[0m\u001b[0;34m(\u001b[0m\u001b[0mself\u001b[0m\u001b[0;34m)\u001b[0m\u001b[0;34m\u001b[0m\u001b[0;34m\u001b[0m\u001b[0m\n",
      "\u001b[0;31mNameError\u001b[0m: name 'Rectangle' is not defined"
     ]
    }
   ],
   "source": [
    "# Votre réponse\n",
    "\n",
    "class Carre(Rectangle): \n",
    "    def __init__(self):\n",
    "        Rectangle.__init__(self)\n",
    "\n",
    "R1=Rectangle(3,4)\n",
    "C1=Carre(2,3,\"Carre\")\n",
    "C1.affichage()"
   ]
  },
  {
   "cell_type": "markdown",
   "metadata": {},
   "source": [
    "## Exercice 18\n",
    "\n",
    "Définir une classe Point avec un constructeur fournissant les coordonnées pa défaut d’un point du plan (par exemple : x = 0.0 et y = 0.0)"
   ]
  },
  {
   "cell_type": "code",
   "execution_count": 27,
   "metadata": {},
   "outputs": [
    {
     "name": "stdout",
     "output_type": "stream",
     "text": [
      "La position de x: 0.0 \n",
      "La position de y: 0.0\n"
     ]
    }
   ],
   "source": [
    "# Votre réponse\n",
    "\n",
    "class Point:\n",
    "    def __init__(self, x=0.0, y=0.0):\n",
    "        self.x=x\n",
    "        self.y=y\n",
    "        \n",
    "P1 = Point()\n",
    "print(\"La position de x:\",P1.x,\"\\nLa position de y:\",P1.y)"
   ]
  },
  {
   "cell_type": "markdown",
   "metadata": {},
   "source": [
    "## Exercice 19\n",
    "Définir une classe Segment dont le constructeur possède quatre paramètres : deux pour l’origine et deux pour l’extrémité. Ce constructeur définit deux attributs : orig et extrem, instances de la classe Point. De cette manière, vous concevez une classe composite : La classe Segment est composée de deux instances de la classe Point. Ajouter une méthode d’affichage"
   ]
  },
  {
   "cell_type": "code",
   "execution_count": 30,
   "metadata": {},
   "outputs": [
    {
     "name": "stdout",
     "output_type": "stream",
     "text": [
      "orig est [10.000000,3.000000] \n",
      "extrem est [40.000000,10000.000000]\n"
     ]
    }
   ],
   "source": [
    "# Votre réponse\n",
    "class Segment(Point):\n",
    "    def __init__(self, x,y,x1,y1):\n",
    "        self.orig=Point(x,y)\n",
    "        self.extrem=Point(x1,y1)\n",
    "        \n",
    "    def __str__(self):\n",
    "        return \"orig est [%f,%f] \\nextrem est [%f,%f]\" %(self.orig.x, self.orig.y, self.extrem.x, self.extrem.y)\n",
    "\n",
    "        \n",
    "        \n",
    "a=Segment(10,3,40,10000)\n",
    "print(a)"
   ]
  },
  {
   "cell_type": "markdown",
   "metadata": {},
   "source": [
    "## Exercice 20\n",
    "Définir une fonction fabrique creer_plus renvoyant une fonction fermeture plus.\n",
    "\n",
    "cree_plus a un argument ajout. Son code ne renferme que la fonction plus qui, elle aussi, possède un argument increment et dont le code se contente de renvoyer la somme : (ajout + increment). \n",
    "\n",
    "Créez deux fonctions, par exemple p = creer_plus(23)et p = creer_plus(42), puis affichez les valeurs données par p(100) et q(100)."
   ]
  },
  {
   "cell_type": "code",
   "execution_count": 22,
   "metadata": {},
   "outputs": [
    {
     "name": "stdout",
     "output_type": "stream",
     "text": [
      "123\n",
      "142\n"
     ]
    }
   ],
   "source": [
    "# Votre réponse\n",
    "\n",
    "\n",
    "def creer_plus(ajout):\n",
    "\n",
    "    def plus(increment):\n",
    "        somme = ajout + increment\n",
    "        return somme\n",
    "    \n",
    "    return plus\n",
    "\n",
    "p = creer_plus(23)\n",
    "q = creer_plus(42)\n",
    "print(p(100))\n",
    "\n",
    "print(q(100))"
   ]
  },
  {
   "cell_type": "markdown",
   "metadata": {},
   "source": [
    "## Exercice 21\n",
    "\n",
    "Écriture d’une fonction fabrique renvoyant une instance de classe.\n",
    "\n",
    "Définir une classe CasNormal contenant une méthode uneMethode qui affiche \"normal\".\n",
    "\n",
    "Définir une classe CasSpecial contenant une méthode uneMethode qui affiche \"spécial\".\n",
    "\n",
    "Enfin définir la fonction fabrique casQuiConvient avec un paramètre estNormal initialisé par défaut à True. Si le paramètre est vérifié, le corps de la fonction renvoie une instance de la classe CasNormal, sinon il renvoie une instance de la classe CasSpecial.\\\n",
    "\n",
    "Créez l’instance que vous désirez grâce à la fabrique, puis vérifiez son type en appelant dessus la méthode uneMethode."
   ]
  },
  {
   "cell_type": "code",
   "execution_count": 11,
   "metadata": {},
   "outputs": [
    {
     "name": "stdout",
     "output_type": "stream",
     "text": [
      "spécial\n"
     ]
    }
   ],
   "source": [
    "    \n",
    "class CasNormal:\n",
    "    \n",
    "    def uneMethode(self):\n",
    "        print(\"normal\")\n",
    "    \n",
    "class CasSpecial:\n",
    "    \n",
    "    def uneMethode(self):\n",
    "        print(\"spécial\")\n",
    "        \n",
    "        \n",
    "def casQuiConvient(estNormal=True):\n",
    "    \n",
    "    if estNormal :            \n",
    "        return CasNormal()\n",
    "    else : \n",
    "        return CasSpecial()\n",
    "        \n",
    "\n",
    "v=casQuiConvient(False)\n",
    "v.uneMethode()"
   ]
  },
  {
   "cell_type": "markdown",
   "metadata": {},
   "source": [
    "## Exercice 22\n",
    "\n",
    "Écrire une classe Papier avec des méthodes pour écrire et afficher le texte.\n",
    "\n",
    "Écrire une classe Stylo qui contient une quantité d'encre, une méthode pour écrire qui reçoit un texte et un papier sur lequel écrire. Chaque lettre écrite doit réduire la quantité d'encre disponible. Quand l'encre se termine, une exception doit être lancée.\n",
    "\n",
    "Écrire une classe Marqueur qui hérite de Stylo, qui contient une méthode recharger, avec laquelle ajouter une quantité d'encre."
   ]
  },
  {
   "cell_type": "code",
   "execution_count": 31,
   "metadata": {},
   "outputs": [
    {
     "name": "stdout",
     "output_type": "stream",
     "text": [
      "Premier essai pour tester\n",
      "Changement de texte ?\n",
      "99\n",
      "e\n",
      "98\n",
      "s\n",
      "97\n",
      "s\n",
      "96\n",
      "a\n",
      "95\n",
      "i\n",
      "94\n",
      " \n",
      "93\n",
      "p\n",
      "92\n",
      "l\n",
      "91\n",
      "u\n",
      "90\n",
      "s\n",
      "89\n",
      " \n",
      "88\n",
      "l\n",
      "87\n",
      "o\n",
      "86\n",
      "n\n",
      "85\n",
      "g\n",
      "84\n",
      " \n",
      "83\n",
      "p\n",
      "82\n",
      "o\n",
      "81\n",
      "u\n",
      "80\n",
      "r\n",
      "79\n",
      " \n",
      "78\n",
      "l\n",
      "77\n",
      "e\n",
      "76\n",
      " \n",
      "75\n",
      "t\n",
      "74\n",
      "e\n",
      "73\n",
      "s\n",
      "72\n",
      "t\n"
     ]
    },
    {
     "data": {
      "text/plain": [
       "<bound method Paper.display of <__main__.Pen object at 0x7f7544d428e0>>"
      ]
     },
     "execution_count": 31,
     "metadata": {},
     "output_type": "execute_result"
    }
   ],
   "source": [
    "class Paper:\n",
    "    \n",
    "    def __init__(self, text):\n",
    "        self.text = text\n",
    "        \n",
    "    def get_text(self):\n",
    "        return self.__text\n",
    "    \n",
    "    def write(self, char):\n",
    "        self.text = char\n",
    "        \n",
    "    def display(self):\n",
    "        print(self.text)\n",
    "        \n",
    "class Pen(Paper):\n",
    "    \n",
    "    def __init__(self, qty_ink=100):\n",
    "        self.ink = qty_ink\n",
    "    \n",
    "    def writePen(self, new_text, paper_pen):\n",
    "        self.text = new_text\n",
    "        self.paper_pen = paper_pen\n",
    "        \n",
    "        for i in new_text:\n",
    "            \n",
    "            if self.ink > 0 :\n",
    "                self.ink -= 1\n",
    "                print(self.ink)\n",
    "                print(i)\n",
    "            else : \n",
    "                print(\"recharger l'encre\")\n",
    "    def get_ink(self):\n",
    "        return self.ink\n",
    "    \n",
    "class Marqueur(Pen):\n",
    "    \n",
    "    def __init__(self):\n",
    "        Pen.__init__(self)\n",
    "    \n",
    "    def recharger(self, x):\n",
    "        self.__ink += x\n",
    "        \n",
    "essai = Paper(\"Premier essai pour tester\")\n",
    "essai.display()\n",
    "essai.write(\"Changement de texte ?\")\n",
    "essai.display()\n",
    "bic = Pen()\n",
    "bic.writePen(\"essai plus long pour le test\", \"bidulle\")\n",
    "bic.display\n",
    "bic."
   ]
  },
  {
   "cell_type": "markdown",
   "metadata": {},
   "source": [
    "## Exercice 23\n",
    "\n",
    "Jeu de rôle\n",
    "\n",
    "Écrire une classe Personnage qui contient des attributs de vie, position et vitesse, ainsi que des méthodes pour recevoir une attaque, qui réduit la vie et qui lance une exception si la vie et égale ou inférieure à 0; une méthode bouger qui reçoit une direction et se déplace dans cette direction avec la vitesse correspondante.\n",
    "\n",
    "Écrire une classe Soldat qui hérite de Personnage et qui ajoute un attribut attaque et la méthode attaquer, qui lance une attaque au personnage passé en paramètre, en réduisant sa vie du montant indiqué dans l'attribut attaque.\n",
    "\n",
    "Écrire une classe Paysan qui hérite de Personnage, qui ajoute un attribut recolte et la méthode recolter, qui retourne la quantité recoltée.\n",
    "\n",
    "Imaginez d'autres personnages et intéractions entre eux."
   ]
  },
  {
   "cell_type": "code",
   "execution_count": 62,
   "metadata": {},
   "outputs": [
    {
     "data": {
      "text/plain": [
       "90"
      ]
     },
     "execution_count": 62,
     "metadata": {},
     "output_type": "execute_result"
    }
   ],
   "source": [
    "# Votre réponse\n",
    "class Personnage:\n",
    "    \n",
    "    def __init__(self, vie, position, speed):\n",
    "        self.__vie = vie\n",
    "        self.__position = position\n",
    "        self.__speed = speed\n",
    "        \n",
    "    def being_attacked(self, x):\n",
    "        return self.__vie - x\n",
    "    \n",
    "        if self.__vie == 0 or self_vie%self_vie == -1:\n",
    "            return \"vous êtes mort\"\n",
    "        else:\n",
    "            return\n",
    "    \n",
    "    def to_move(self, direction, speed):\n",
    "        self.__position = direction\n",
    "        self.__speed = speed\n",
    "\n",
    "        \n",
    "class Soldat(Personnage):\n",
    "    \n",
    "    def __init__(self):\n",
    "        Personnage.__init__(self)\n",
    "    \n",
    "    def to_attack(self, damage, personnage):\n",
    "        Personnage.self.__vie - damage\n",
    "        \n",
    "        \n",
    "P1 = Personnage(100, 1 , 10)\n",
    "P1.being_attacked(10)\n"
   ]
  },
  {
   "cell_type": "code",
   "execution_count": null,
   "metadata": {},
   "outputs": [],
   "source": []
  }
 ],
 "metadata": {
  "kernelspec": {
   "display_name": "Python 3",
   "language": "python",
   "name": "python3"
  },
  "language_info": {
   "codemirror_mode": {
    "name": "ipython",
    "version": 3
   },
   "file_extension": ".py",
   "mimetype": "text/x-python",
   "name": "python",
   "nbconvert_exporter": "python",
   "pygments_lexer": "ipython3",
   "version": "3.8.5"
  }
 },
 "nbformat": 4,
 "nbformat_minor": 4
}
