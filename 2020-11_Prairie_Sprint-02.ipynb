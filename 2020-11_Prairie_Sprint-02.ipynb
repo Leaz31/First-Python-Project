{
 "cells": [
  {
   "cell_type": "markdown",
   "metadata": {},
   "source": [
    "# 2020-11-23 - Projet de Prairie - DCV"
   ]
  },
  {
   "cell_type": "markdown",
   "metadata": {},
   "source": [
    "## Contexte\n",
    "\n",
    "Dans ce projet, nous allons explorer un jeu de données afin de découvrir la manipulation de données et construire nos premiers modèles de prédiction de Machine Learning.\n",
    "\n",
    "Nous allons utiliser un jeu de données mis à disposition par le gouvernement. Cela concerne les valeurs de transactions immobilières. Le but va être de créer un modèle qui prédit le prix du marché d'un bien en fonction de certaines de ses caractéristiques (nombre de pièces, surface, emplacement...).\n",
    "\n",
    "## Objectifs pédagogiques\n",
    "\n",
    "* Découvrir la manipulation de données\n",
    "* Etre sensibiliser au déroulement d'un projet de Data Science\n",
    "\n"
   ]
  },
  {
   "cell_type": "markdown",
   "metadata": {},
   "source": [
    "# Sprint 2"
   ]
  },
  {
   "cell_type": "markdown",
   "metadata": {},
   "source": [
    "Sur le repo git,\n",
    "* télécharger le fichier `utils.py`\n",
    "* le mettre dans le même dossier que ce notebook."
   ]
  },
  {
   "cell_type": "code",
   "execution_count": 111,
   "metadata": {},
   "outputs": [],
   "source": [
    "import pandas as pd\n",
    "import utils as utils"
   ]
  },
  {
   "cell_type": "code",
   "execution_count": 112,
   "metadata": {},
   "outputs": [],
   "source": [
    "# Chargons les données\n",
    "\n",
    "# Préciser le nom du fichier\n",
    "filename = \"valeursfoncieres-2020.txt\"\n",
    "\n",
    "# Préciser ici le séparateur\n",
    "separator = \"|\"\n",
    "\n",
    "\n",
    "df = pd.read_csv(filename, sep=separator, low_memory=False)"
   ]
  },
  {
   "cell_type": "code",
   "execution_count": 113,
   "metadata": {},
   "outputs": [
    {
     "name": "stdout",
     "output_type": "stream",
     "text": [
      "<class 'pandas.core.frame.DataFrame'>\n",
      "Int64Index: 458571 entries, 4 to 827104\n",
      "Data columns (total 7 columns):\n",
      " #   Column                     Non-Null Count   Dtype   \n",
      "---  ------                     --------------   -----   \n",
      " 0   Nature mutation            458571 non-null  category\n",
      " 1   Code postal                458571 non-null  category\n",
      " 2   Code departement           458571 non-null  category\n",
      " 3   Valeur fonciere            458571 non-null  uint64  \n",
      " 4   Type local                 458571 non-null  category\n",
      " 5   Surface reelle bati        458571 non-null  float64 \n",
      " 6   Nombre pieces principales  458571 non-null  float64 \n",
      "dtypes: category(4), float64(2), uint64(1)\n",
      "memory usage: 16.4 MB\n"
     ]
    }
   ],
   "source": [
    "# Préparons les données comme au sprint précédent\n",
    "df = utils.prepare_sprint_1(df)\n",
    "\n",
    "# Affichons des informations\n",
    "df.info()"
   ]
  },
  {
   "cell_type": "code",
   "execution_count": 114,
   "metadata": {},
   "outputs": [],
   "source": [
    "# Nous allons maintenant réaliser notre premier modèle de prédiction.\n",
    "# Nous allons faire une régression linéaire"
   ]
  },
  {
   "cell_type": "code",
   "execution_count": 115,
   "metadata": {},
   "outputs": [
    {
     "data": {
      "text/plain": [
       "4     209950\n",
       "9     207170\n",
       "11    189000\n",
       "12    189000\n",
       "18    715350\n",
       "20    164650\n",
       "21    174500\n",
       "22    122000\n",
       "23    122000\n",
       "Name: Valeur fonciere, dtype: uint64"
      ]
     },
     "execution_count": 115,
     "metadata": {},
     "output_type": "execute_result"
    }
   ],
   "source": [
    "# Tout d'abord, nous isolons la valeur à prédire. Ici c'est le prix.\n",
    "y = df[\"Valeur fonciere\"]\n",
    "y.head(9)"
   ]
  },
  {
   "cell_type": "code",
   "execution_count": 116,
   "metadata": {},
   "outputs": [
    {
     "data": {
      "text/html": [
       "<div>\n",
       "<style scoped>\n",
       "    .dataframe tbody tr th:only-of-type {\n",
       "        vertical-align: middle;\n",
       "    }\n",
       "\n",
       "    .dataframe tbody tr th {\n",
       "        vertical-align: top;\n",
       "    }\n",
       "\n",
       "    .dataframe thead th {\n",
       "        text-align: right;\n",
       "    }\n",
       "</style>\n",
       "<table border=\"1\" class=\"dataframe\">\n",
       "  <thead>\n",
       "    <tr style=\"text-align: right;\">\n",
       "      <th></th>\n",
       "      <th>Nature mutation</th>\n",
       "      <th>Code postal</th>\n",
       "      <th>Code departement</th>\n",
       "      <th>Type local</th>\n",
       "      <th>Surface reelle bati</th>\n",
       "      <th>Nombre pieces principales</th>\n",
       "    </tr>\n",
       "  </thead>\n",
       "  <tbody>\n",
       "    <tr>\n",
       "      <th>4</th>\n",
       "      <td>Vente</td>\n",
       "      <td>1000.0</td>\n",
       "      <td>01</td>\n",
       "      <td>Maison</td>\n",
       "      <td>78.0</td>\n",
       "      <td>5.0</td>\n",
       "    </tr>\n",
       "    <tr>\n",
       "      <th>9</th>\n",
       "      <td>Vente</td>\n",
       "      <td>1000.0</td>\n",
       "      <td>01</td>\n",
       "      <td>Maison</td>\n",
       "      <td>106.0</td>\n",
       "      <td>4.0</td>\n",
       "    </tr>\n",
       "    <tr>\n",
       "      <th>11</th>\n",
       "      <td>Vente</td>\n",
       "      <td>1340.0</td>\n",
       "      <td>01</td>\n",
       "      <td>Maison</td>\n",
       "      <td>90.0</td>\n",
       "      <td>4.0</td>\n",
       "    </tr>\n",
       "    <tr>\n",
       "      <th>12</th>\n",
       "      <td>Vente</td>\n",
       "      <td>1340.0</td>\n",
       "      <td>01</td>\n",
       "      <td>Local industriel. commercial ou assimilé</td>\n",
       "      <td>0.0</td>\n",
       "      <td>0.0</td>\n",
       "    </tr>\n",
       "    <tr>\n",
       "      <th>18</th>\n",
       "      <td>Vente</td>\n",
       "      <td>1851.0</td>\n",
       "      <td>01</td>\n",
       "      <td>Maison</td>\n",
       "      <td>400.0</td>\n",
       "      <td>7.0</td>\n",
       "    </tr>\n",
       "  </tbody>\n",
       "</table>\n",
       "</div>"
      ],
      "text/plain": [
       "   Nature mutation Code postal Code departement  \\\n",
       "4            Vente      1000.0               01   \n",
       "9            Vente      1000.0               01   \n",
       "11           Vente      1340.0               01   \n",
       "12           Vente      1340.0               01   \n",
       "18           Vente      1851.0               01   \n",
       "\n",
       "                                  Type local  Surface reelle bati  \\\n",
       "4                                     Maison                 78.0   \n",
       "9                                     Maison                106.0   \n",
       "11                                    Maison                 90.0   \n",
       "12  Local industriel. commercial ou assimilé                  0.0   \n",
       "18                                    Maison                400.0   \n",
       "\n",
       "    Nombre pieces principales  \n",
       "4                         5.0  \n",
       "9                         4.0  \n",
       "11                        4.0  \n",
       "12                        0.0  \n",
       "18                        7.0  "
      ]
     },
     "execution_count": 116,
     "metadata": {},
     "output_type": "execute_result"
    }
   ],
   "source": [
    "# Puis nous créons un jeu de données qui contient les \"features\", \n",
    "# mais sans la \"target\" (la valeur à prédire, ici le prix)\n",
    "\n",
    "# Pour cela, on \"drop\" la colonne à enlever\n",
    "X = df.drop(columns=[\"Valeur fonciere\"])\n",
    "X.head()"
   ]
  },
  {
   "cell_type": "code",
   "execution_count": 117,
   "metadata": {},
   "outputs": [],
   "source": [
    "# Nous n'allons conserver que les colonnes de type \"number\"\n",
    "\n",
    "# Indiquer ici les colonnes de type number\n",
    "columns_of_type_number = [\"Surface reelle bati\" ,\n",
    "                          \"Nombre pieces principales\"]\n",
    "X = df[columns_of_type_number]"
   ]
  },
  {
   "cell_type": "code",
   "execution_count": 118,
   "metadata": {},
   "outputs": [
    {
     "data": {
      "text/html": [
       "<div>\n",
       "<style scoped>\n",
       "    .dataframe tbody tr th:only-of-type {\n",
       "        vertical-align: middle;\n",
       "    }\n",
       "\n",
       "    .dataframe tbody tr th {\n",
       "        vertical-align: top;\n",
       "    }\n",
       "\n",
       "    .dataframe thead th {\n",
       "        text-align: right;\n",
       "    }\n",
       "</style>\n",
       "<table border=\"1\" class=\"dataframe\">\n",
       "  <thead>\n",
       "    <tr style=\"text-align: right;\">\n",
       "      <th></th>\n",
       "      <th>Surface reelle bati</th>\n",
       "      <th>Nombre pieces principales</th>\n",
       "    </tr>\n",
       "  </thead>\n",
       "  <tbody>\n",
       "    <tr>\n",
       "      <th>4</th>\n",
       "      <td>78.0</td>\n",
       "      <td>5.0</td>\n",
       "    </tr>\n",
       "    <tr>\n",
       "      <th>9</th>\n",
       "      <td>106.0</td>\n",
       "      <td>4.0</td>\n",
       "    </tr>\n",
       "  </tbody>\n",
       "</table>\n",
       "</div>"
      ],
      "text/plain": [
       "   Surface reelle bati  Nombre pieces principales\n",
       "4                 78.0                        5.0\n",
       "9                106.0                        4.0"
      ]
     },
     "execution_count": 118,
     "metadata": {},
     "output_type": "execute_result"
    }
   ],
   "source": [
    "# Affichons les deux premières lignes\n",
    "X[:2]"
   ]
  },
  {
   "cell_type": "code",
   "execution_count": 119,
   "metadata": {},
   "outputs": [
    {
     "data": {
      "text/plain": [
       "LinearRegression()"
      ]
     },
     "execution_count": 119,
     "metadata": {},
     "output_type": "execute_result"
    }
   ],
   "source": [
    "# Nous importons les dépendances nécessaires\n",
    "from sklearn import linear_model\n",
    "\n",
    "# Créons notre modèle de régression linéaire\n",
    "model = linear_model.LinearRegression()\n",
    "\n",
    "# Entraînons le modèle en lui fournissant le jeu de données et les réponses correspondantes\n",
    "model.fit(X, y)"
   ]
  },
  {
   "cell_type": "code",
   "execution_count": 120,
   "metadata": {},
   "outputs": [
    {
     "data": {
      "text/plain": [
       "array([534303.05925477, 668794.32025125])"
      ]
     },
     "execution_count": 120,
     "metadata": {},
     "output_type": "execute_result"
    }
   ],
   "source": [
    "# Faison des predictions\n",
    "y_pred = model.predict(X)\n",
    "\n",
    "# Affichons les prédictions des deux premières lignes\n",
    "y_pred[:2]"
   ]
  },
  {
   "cell_type": "code",
   "execution_count": 121,
   "metadata": {},
   "outputs": [
    {
     "name": "stdout",
     "output_type": "stream",
     "text": [
      "\u001b[34m La différence de prix pour la valeur 4 est de 324353 €\n",
      "\u001b[34m La différence de prix pour la valeur 5 est de 461624 €\n",
      "\u001b[34m La moyenne de la différence est de 392989 €\n"
     ]
    }
   ],
   "source": [
    "# Quelle est le prix prédit pour la valeur 4 ?\n",
    "\n",
    "534303,6\n",
    "\n",
    "# Quelle est le prix prédit pour la valeur 9 ?\n",
    "\n",
    "668794,32\n",
    "\n",
    "# Quelle est la différence avec le prix réel pour la valeur 4 ?\n",
    "\n",
    "a = 534303.06-209950\n",
    "print('\\033[34m', \"La différence de prix pour la valeur 4 est de\" , round(a),\"€\")\n",
    "\n",
    "# Quelle est la différence avec le prix réel pour la valeur 9 ?\n",
    "\n",
    "b = 668794.32-207170\n",
    "print('\\033[34m', \"La différence de prix pour la valeur 5 est de\" , round(b),\"€\")\n",
    "\n",
    "\n",
    "# Quelle est la moyenne de la différence ?\n",
    "\n",
    "\n",
    "c = ((a+b)/2)\n",
    "print('\\033[34m', \"La moyenne de la différence est de\" , round(c),\"€\")\n"
   ]
  },
  {
   "cell_type": "code",
   "execution_count": 122,
   "metadata": {},
   "outputs": [
    {
     "data": {
      "text/plain": [
       "4    209950\n",
       "9    207170\n",
       "Name: Valeur fonciere, dtype: uint64"
      ]
     },
     "execution_count": 122,
     "metadata": {},
     "output_type": "execute_result"
    }
   ],
   "source": [
    "# Affichons les valeurs réelles\n",
    "y[:2]"
   ]
  },
  {
   "cell_type": "code",
   "execution_count": 123,
   "metadata": {},
   "outputs": [
    {
     "data": {
      "text/plain": [
       "4    324353.059255\n",
       "9    461624.320251\n",
       "Name: Valeur fonciere, dtype: float64"
      ]
     },
     "execution_count": 123,
     "metadata": {},
     "output_type": "execute_result"
    }
   ],
   "source": [
    "# Les différences sont\n",
    "y_pred[:2] - y[:2]"
   ]
  },
  {
   "cell_type": "code",
   "execution_count": 124,
   "metadata": {},
   "outputs": [
    {
     "data": {
      "text/plain": [
       "392988.68975300936"
      ]
     },
     "execution_count": 124,
     "metadata": {},
     "output_type": "execute_result"
    }
   ],
   "source": [
    "# La moyenne est \n",
    "(y_pred[:2] - y[:2]).mean()"
   ]
  },
  {
   "cell_type": "code",
   "execution_count": 125,
   "metadata": {},
   "outputs": [
    {
     "name": "stdout",
     "output_type": "stream",
     "text": [
      "\u001b[34m Le résultat est correct mais la prédiction semble trop haute\n"
     ]
    }
   ],
   "source": [
    "# Que pensez-vous du résultat ? Est-ce un bon résultat ?\n",
    "print('\\033[34m', \"Le résultat est correct mais la prédiction semble trop haute\")"
   ]
  },
  {
   "cell_type": "code",
   "execution_count": 126,
   "metadata": {},
   "outputs": [
    {
     "data": {
      "text/plain": [
       "-2.2044454956607048e-10"
      ]
     },
     "execution_count": 126,
     "metadata": {},
     "output_type": "execute_result"
    }
   ],
   "source": [
    "import numpy as np\n",
    "# Appliquons cela à tout le dataset\n",
    "errors = (y_pred - y)\n",
    "errors.mean()"
   ]
  },
  {
   "cell_type": "code",
   "execution_count": 127,
   "metadata": {},
   "outputs": [
    {
     "name": "stdout",
     "output_type": "stream",
     "text": [
      "\u001b[34m Non, le résultat n'est pas probant\n"
     ]
    }
   ],
   "source": [
    "# Que pensez-vous du résultat ? Est-ce un bon résultat ?\n",
    "print('\\033[34m', \"Non, le résultat n'est pas probant\")"
   ]
  },
  {
   "cell_type": "code",
   "execution_count": 128,
   "metadata": {},
   "outputs": [
    {
     "data": {
      "text/plain": [
       "<AxesSubplot:>"
      ]
     },
     "execution_count": 128,
     "metadata": {},
     "output_type": "execute_result"
    },
    {
     "data": {
      "image/png": "[encoded data removed]",
      "text/plain": [
       "<Figure size 432x288 with 1 Axes>"
      ]
     },
     "metadata": {
      "needs_background": "light"
     },
     "output_type": "display_data"
    }
   ],
   "source": [
    "# Nos données avaient une répartition très large.\n",
    "\n",
    "# Affichons la répartition des prix avec un diagramme \"Boîte à moustache\"\n",
    "df.boxplot(column=[\"Valeur fonciere\"])"
   ]
  },
  {
   "cell_type": "code",
   "execution_count": 129,
   "metadata": {},
   "outputs": [
    {
     "name": "stdout",
     "output_type": "stream",
     "text": [
      "\u001b[34m Oui !\n",
      "\u001b[34m Les points représentent toutes les données de 'valeur foncières'\n"
     ]
    }
   ],
   "source": [
    "# Pour les questions suivantes, aidez-vous de : https://en.wikipedia.org/wiki/Box_plot\n",
    "\n",
    "# Distinguez vous le diagramme boîte à moustache ?\n",
    "\n",
    "\n",
    "print('\\033[34m', \"Oui !\")\n",
    "\n",
    "# Que représentent les points ?\n",
    "\n",
    "\n",
    "print('\\033[34m', \"Les points représentent toutes les données de 'valeur foncières'\")\n",
    "\n"
   ]
  },
  {
   "cell_type": "code",
   "execution_count": 130,
   "metadata": {},
   "outputs": [
    {
     "data": {
      "text/plain": [
       "count    4.585710e+05\n",
       "mean     8.407376e+05\n",
       "std      5.564306e+06\n",
       "min      0.000000e+00\n",
       "25%      1.070000e+05\n",
       "50%      1.795000e+05\n",
       "75%      3.020000e+05\n",
       "max      4.190000e+08\n",
       "Name: Valeur fonciere, dtype: float64"
      ]
     },
     "execution_count": 130,
     "metadata": {},
     "output_type": "execute_result"
    }
   ],
   "source": [
    "# Affichons quelques statistiques sur le prix\n",
    "df[\"Valeur fonciere\"].describe()"
   ]
  },
  {
   "cell_type": "code",
   "execution_count": 131,
   "metadata": {},
   "outputs": [
    {
     "name": "stdout",
     "output_type": "stream",
     "text": [
      "\u001b[34m La moyenne des prix est de 8.407376e+05\n",
      "\u001b[34m L'écart type est de 5.564306e+06\n",
      "\u001b[34m La médiane est de 1.795000e+05\n"
     ]
    }
   ],
   "source": [
    "# Quelle est la moyenne des prix ?\n",
    "\n",
    "\n",
    "print('\\033[34m', \"La moyenne des prix est de 8.407376e+05\")\n",
    "\n",
    "# Quel est l'écart type ?\n",
    "\n",
    "print('\\033[34m', \"L'écart type est de 5.564306e+06\")\n",
    "\n",
    "# Quelle est la médiane ?\n",
    "\n",
    "print('\\033[34m', \"La médiane est de 1.795000e+05\")\n"
   ]
  },
  {
   "cell_type": "code",
   "execution_count": 132,
   "metadata": {},
   "outputs": [],
   "source": [
    "# Nous n'allons conserver que les valeurs entre le premier quartile (centile 25) et le 3è quartile (centile 75).\n",
    "# Indiquer à quelles valeurs correspondent ces centiles :\n",
    "centile_25 = 1.070000e+05\n",
    "centile_75 = 3.020000e+05"
   ]
  },
  {
   "cell_type": "code",
   "execution_count": 133,
   "metadata": {},
   "outputs": [],
   "source": [
    "# Nous créons deux masques pour ne conserver que les valeurs souhaitez\n",
    "mask_sup_25 = df[\"Valeur fonciere\"] > centile_25\n",
    "mask_inf_75 = df[\"Valeur fonciere\"] < centile_75\n"
   ]
  },
  {
   "cell_type": "code",
   "execution_count": 134,
   "metadata": {},
   "outputs": [],
   "source": [
    "# Nous créons un copie par practicité\n",
    "df_light_data = df.copy()\n",
    "\n",
    "# Nous appliquons les masques\n",
    "df_light_data = df_light_data[mask_sup_25 & mask_inf_75]"
   ]
  },
  {
   "cell_type": "code",
   "execution_count": 135,
   "metadata": {},
   "outputs": [
    {
     "name": "stdout",
     "output_type": "stream",
     "text": [
      "<class 'pandas.core.frame.DataFrame'>\n",
      "Int64Index: 228842 entries, 4 to 827103\n",
      "Data columns (total 7 columns):\n",
      " #   Column                     Non-Null Count   Dtype   \n",
      "---  ------                     --------------   -----   \n",
      " 0   Nature mutation            228842 non-null  category\n",
      " 1   Code postal                228842 non-null  category\n",
      " 2   Code departement           228842 non-null  category\n",
      " 3   Valeur fonciere            228842 non-null  uint64  \n",
      " 4   Type local                 228842 non-null  category\n",
      " 5   Surface reelle bati        228842 non-null  float64 \n",
      " 6   Nombre pieces principales  228842 non-null  float64 \n",
      "dtypes: category(4), float64(2), uint64(1)\n",
      "memory usage: 8.3 MB\n"
     ]
    }
   ],
   "source": [
    "df_light_data.info()"
   ]
  },
  {
   "cell_type": "markdown",
   "metadata": {},
   "source": [
    "# Combien de lignes restent-ils ?\n",
    "228842"
   ]
  },
  {
   "cell_type": "code",
   "execution_count": 136,
   "metadata": {},
   "outputs": [
    {
     "data": {
      "text/plain": [
       "<AxesSubplot:>"
      ]
     },
     "execution_count": 136,
     "metadata": {},
     "output_type": "execute_result"
    },
    {
     "data": {
      "image/png": "[encoded data removed]",
      "text/plain": [
       "<Figure size 432x288 with 1 Axes>"
      ]
     },
     "metadata": {
      "needs_background": "light"
     },
     "output_type": "display_data"
    }
   ],
   "source": [
    "# Affichons de nouveau la boite à moustache\n",
    "df_light_data.boxplot(column=\"Valeur fonciere\")"
   ]
  },
  {
   "cell_type": "code",
   "execution_count": 137,
   "metadata": {},
   "outputs": [
    {
     "ename": "SyntaxError",
     "evalue": "invalid character in identifier (<ipython-input-137-8348cfd939bd>, line 2)",
     "output_type": "error",
     "traceback": [
      "\u001b[0;36m  File \u001b[0;32m\"<ipython-input-137-8348cfd939bd>\"\u001b[0;36m, line \u001b[0;32m2\u001b[0m\n\u001b[0;31m    180000€\u001b[0m\n\u001b[0m          ^\u001b[0m\n\u001b[0;31mSyntaxError\u001b[0m\u001b[0;31m:\u001b[0m invalid character in identifier\n"
     ]
    }
   ],
   "source": [
    "# Graphiquement, déterminer la valeur médiane\n",
    "180000€\n",
    "\n",
    "# Graphiquement, déterminer le premier et le troisème quartile\n",
    "110000-145000€\n",
    "226000-302000€\n",
    "    "
   ]
  },
  {
   "cell_type": "code",
   "execution_count": 138,
   "metadata": {},
   "outputs": [
    {
     "ename": "ValueError",
     "evalue": "Boolean array expected for the condition, not object",
     "output_type": "error",
     "traceback": [
      "\u001b[0;31m---------------------------------------------------------------------------\u001b[0m",
      "\u001b[0;31mValueError\u001b[0m                                Traceback (most recent call last)",
      "\u001b[0;32m<ipython-input-138-efbaed28ef1b>\u001b[0m in \u001b[0;36m<module>\u001b[0;34m\u001b[0m\n\u001b[1;32m      8\u001b[0m \u001b[0;31m# Entraînons le modèle en lui fournissous le jeu de données et les réponses correspondantes\u001b[0m\u001b[0;34m\u001b[0m\u001b[0;34m\u001b[0m\u001b[0;34m\u001b[0m\u001b[0m\n\u001b[1;32m      9\u001b[0m \u001b[0mmodel\u001b[0m\u001b[0;34m.\u001b[0m\u001b[0mfit\u001b[0m\u001b[0;34m(\u001b[0m\u001b[0mX\u001b[0m\u001b[0;34m,\u001b[0m \u001b[0my\u001b[0m\u001b[0;34m)\u001b[0m\u001b[0;34m\u001b[0m\u001b[0;34m\u001b[0m\u001b[0m\n\u001b[0;32m---> 10\u001b[0;31m \u001b[0mdf\u001b[0m\u001b[0;34m.\u001b[0m\u001b[0mplot\u001b[0m\u001b[0;34m(\u001b[0m\u001b[0mX\u001b[0m\u001b[0;34m,\u001b[0m\u001b[0my\u001b[0m\u001b[0;34m)\u001b[0m\u001b[0;34m\u001b[0m\u001b[0;34m\u001b[0m\u001b[0m\n\u001b[0m",
      "\u001b[0;32m~/.local/lib/python3.8/site-packages/pandas/plotting/_core.py\u001b[0m in \u001b[0;36m__call__\u001b[0;34m(self, *args, **kwargs)\u001b[0m\n\u001b[1;32m    912\u001b[0m                 \u001b[0;32mif\u001b[0m \u001b[0mis_integer\u001b[0m\u001b[0;34m(\u001b[0m\u001b[0mx\u001b[0m\u001b[0;34m)\u001b[0m \u001b[0;32mand\u001b[0m \u001b[0;32mnot\u001b[0m \u001b[0mdata\u001b[0m\u001b[0;34m.\u001b[0m\u001b[0mcolumns\u001b[0m\u001b[0;34m.\u001b[0m\u001b[0mholds_integer\u001b[0m\u001b[0;34m(\u001b[0m\u001b[0;34m)\u001b[0m\u001b[0;34m:\u001b[0m\u001b[0;34m\u001b[0m\u001b[0;34m\u001b[0m\u001b[0m\n\u001b[1;32m    913\u001b[0m                     \u001b[0mx\u001b[0m \u001b[0;34m=\u001b[0m \u001b[0mdata_cols\u001b[0m\u001b[0;34m[\u001b[0m\u001b[0mx\u001b[0m\u001b[0;34m]\u001b[0m\u001b[0;34m\u001b[0m\u001b[0;34m\u001b[0m\u001b[0m\n\u001b[0;32m--> 914\u001b[0;31m                 \u001b[0;32melif\u001b[0m \u001b[0;32mnot\u001b[0m \u001b[0misinstance\u001b[0m\u001b[0;34m(\u001b[0m\u001b[0mdata\u001b[0m\u001b[0;34m[\u001b[0m\u001b[0mx\u001b[0m\u001b[0;34m]\u001b[0m\u001b[0;34m,\u001b[0m \u001b[0mABCSeries\u001b[0m\u001b[0;34m)\u001b[0m\u001b[0;34m:\u001b[0m\u001b[0;34m\u001b[0m\u001b[0;34m\u001b[0m\u001b[0m\n\u001b[0m\u001b[1;32m    915\u001b[0m                     \u001b[0;32mraise\u001b[0m \u001b[0mValueError\u001b[0m\u001b[0;34m(\u001b[0m\u001b[0;34m\"x must be a label or position\"\u001b[0m\u001b[0;34m)\u001b[0m\u001b[0;34m\u001b[0m\u001b[0;34m\u001b[0m\u001b[0m\n\u001b[1;32m    916\u001b[0m                 \u001b[0mdata\u001b[0m \u001b[0;34m=\u001b[0m \u001b[0mdata\u001b[0m\u001b[0;34m.\u001b[0m\u001b[0mset_index\u001b[0m\u001b[0;34m(\u001b[0m\u001b[0mx\u001b[0m\u001b[0;34m)\u001b[0m\u001b[0;34m\u001b[0m\u001b[0;34m\u001b[0m\u001b[0m\n",
      "\u001b[0;32m~/.local/lib/python3.8/site-packages/pandas/core/frame.py\u001b[0m in \u001b[0;36m__getitem__\u001b[0;34m(self, key)\u001b[0m\n\u001b[1;32m   2891\u001b[0m         \u001b[0;31m# Do we have a (boolean) DataFrame?\u001b[0m\u001b[0;34m\u001b[0m\u001b[0;34m\u001b[0m\u001b[0;34m\u001b[0m\u001b[0m\n\u001b[1;32m   2892\u001b[0m         \u001b[0;32mif\u001b[0m \u001b[0misinstance\u001b[0m\u001b[0;34m(\u001b[0m\u001b[0mkey\u001b[0m\u001b[0;34m,\u001b[0m \u001b[0mDataFrame\u001b[0m\u001b[0;34m)\u001b[0m\u001b[0;34m:\u001b[0m\u001b[0;34m\u001b[0m\u001b[0;34m\u001b[0m\u001b[0m\n\u001b[0;32m-> 2893\u001b[0;31m             \u001b[0;32mreturn\u001b[0m \u001b[0mself\u001b[0m\u001b[0;34m.\u001b[0m\u001b[0mwhere\u001b[0m\u001b[0;34m(\u001b[0m\u001b[0mkey\u001b[0m\u001b[0;34m)\u001b[0m\u001b[0;34m\u001b[0m\u001b[0;34m\u001b[0m\u001b[0m\n\u001b[0m\u001b[1;32m   2894\u001b[0m \u001b[0;34m\u001b[0m\u001b[0m\n\u001b[1;32m   2895\u001b[0m         \u001b[0;31m# Do we have a (boolean) 1d indexer?\u001b[0m\u001b[0;34m\u001b[0m\u001b[0;34m\u001b[0m\u001b[0;34m\u001b[0m\u001b[0m\n",
      "\u001b[0;32m~/.local/lib/python3.8/site-packages/pandas/core/generic.py\u001b[0m in \u001b[0;36mwhere\u001b[0;34m(self, cond, other, inplace, axis, level, errors, try_cast)\u001b[0m\n\u001b[1;32m   9002\u001b[0m         \"\"\"\n\u001b[1;32m   9003\u001b[0m         \u001b[0mother\u001b[0m \u001b[0;34m=\u001b[0m \u001b[0mcom\u001b[0m\u001b[0;34m.\u001b[0m\u001b[0mapply_if_callable\u001b[0m\u001b[0;34m(\u001b[0m\u001b[0mother\u001b[0m\u001b[0;34m,\u001b[0m \u001b[0mself\u001b[0m\u001b[0;34m)\u001b[0m\u001b[0;34m\u001b[0m\u001b[0;34m\u001b[0m\u001b[0m\n\u001b[0;32m-> 9004\u001b[0;31m         return self._where(\n\u001b[0m\u001b[1;32m   9005\u001b[0m             \u001b[0mcond\u001b[0m\u001b[0;34m,\u001b[0m \u001b[0mother\u001b[0m\u001b[0;34m,\u001b[0m \u001b[0minplace\u001b[0m\u001b[0;34m,\u001b[0m \u001b[0maxis\u001b[0m\u001b[0;34m,\u001b[0m \u001b[0mlevel\u001b[0m\u001b[0;34m,\u001b[0m \u001b[0merrors\u001b[0m\u001b[0;34m=\u001b[0m\u001b[0merrors\u001b[0m\u001b[0;34m,\u001b[0m \u001b[0mtry_cast\u001b[0m\u001b[0;34m=\u001b[0m\u001b[0mtry_cast\u001b[0m\u001b[0;34m\u001b[0m\u001b[0;34m\u001b[0m\u001b[0m\n\u001b[1;32m   9006\u001b[0m         )\n",
      "\u001b[0;32m~/.local/lib/python3.8/site-packages/pandas/core/generic.py\u001b[0m in \u001b[0;36m_where\u001b[0;34m(self, cond, other, inplace, axis, level, errors, try_cast)\u001b[0m\n\u001b[1;32m   8764\u001b[0m                 \u001b[0;32mfor\u001b[0m \u001b[0mdt\u001b[0m \u001b[0;32min\u001b[0m \u001b[0mcond\u001b[0m\u001b[0;34m.\u001b[0m\u001b[0mdtypes\u001b[0m\u001b[0;34m:\u001b[0m\u001b[0;34m\u001b[0m\u001b[0;34m\u001b[0m\u001b[0m\n\u001b[1;32m   8765\u001b[0m                     \u001b[0;32mif\u001b[0m \u001b[0;32mnot\u001b[0m \u001b[0mis_bool_dtype\u001b[0m\u001b[0;34m(\u001b[0m\u001b[0mdt\u001b[0m\u001b[0;34m)\u001b[0m\u001b[0;34m:\u001b[0m\u001b[0;34m\u001b[0m\u001b[0;34m\u001b[0m\u001b[0m\n\u001b[0;32m-> 8766\u001b[0;31m                         \u001b[0;32mraise\u001b[0m \u001b[0mValueError\u001b[0m\u001b[0;34m(\u001b[0m\u001b[0mmsg\u001b[0m\u001b[0;34m.\u001b[0m\u001b[0mformat\u001b[0m\u001b[0;34m(\u001b[0m\u001b[0mdtype\u001b[0m\u001b[0;34m=\u001b[0m\u001b[0mdt\u001b[0m\u001b[0;34m)\u001b[0m\u001b[0;34m)\u001b[0m\u001b[0;34m\u001b[0m\u001b[0;34m\u001b[0m\u001b[0m\n\u001b[0m\u001b[1;32m   8767\u001b[0m         \u001b[0;32melse\u001b[0m\u001b[0;34m:\u001b[0m\u001b[0;34m\u001b[0m\u001b[0;34m\u001b[0m\u001b[0m\n\u001b[1;32m   8768\u001b[0m             \u001b[0;31m# GH#21947 we have an empty DataFrame/Series, could be object-dtype\u001b[0m\u001b[0;34m\u001b[0m\u001b[0;34m\u001b[0m\u001b[0;34m\u001b[0m\u001b[0m\n",
      "\u001b[0;31mValueError\u001b[0m: Boolean array expected for the condition, not object"
     ]
    }
   ],
   "source": [
    "# Redéfinisson notre jeu de données\n",
    "X = df_light_data[columns_of_type_number]\n",
    "y = df_light_data[\"Valeur fonciere\"]\n",
    "\n",
    "# Créons notre modèle de régression linéaire\n",
    "model = linear_model.LinearRegression()\n",
    "\n",
    "# Entraînons le modèle en lui fournissous le jeu de données et les réponses correspondantes\n",
    "model.fit(X, y)\n",
    "df.plot(X,y)"
   ]
  },
  {
   "cell_type": "code",
   "execution_count": 139,
   "metadata": {},
   "outputs": [
    {
     "data": {
      "text/plain": [
       "4.558084982517789e-12"
      ]
     },
     "execution_count": 139,
     "metadata": {},
     "output_type": "execute_result"
    }
   ],
   "source": [
    "y_pred = model.predict(X)\n",
    "\n",
    "# Appliquons cela à tout le dataset\n",
    "errors = (y_pred - y)\n",
    "errors.mean()"
   ]
  },
  {
   "cell_type": "code",
   "execution_count": 140,
   "metadata": {},
   "outputs": [
    {
     "data": {
      "text/plain": [
       "\"Il n'est toujours pas probant\""
      ]
     },
     "execution_count": 140,
     "metadata": {},
     "output_type": "execute_result"
    }
   ],
   "source": [
    "# Que pensez-vous de ce résultat ?\n",
    "\"Il n'est toujours pas probant\"\n"
   ]
  },
  {
   "cell_type": "code",
   "execution_count": 141,
   "metadata": {},
   "outputs": [
    {
     "data": {
      "text/plain": [
       "44384.5655586005"
      ]
     },
     "execution_count": 141,
     "metadata": {},
     "output_type": "execute_result"
    }
   ],
   "source": [
    "# Calculer simplement la différence n'est pas pertinent.\n",
    "# Nous allons utiliser des calculs de performances plus pertinents.\n",
    "\n",
    "# Commençons par la Mean Absolute Error\n",
    "from sklearn.metrics import mean_absolute_error\n",
    "\n",
    "error_ma = mean_absolute_error(y, y_pred)\n",
    "error_ma\n"
   ]
  },
  {
   "cell_type": "code",
   "execution_count": 142,
   "metadata": {},
   "outputs": [
    {
     "data": {
      "text/plain": [
       "\"Le résultat semble assez proche du réel (si l'on prend en compte l'impact des valeurs a 0)\""
      ]
     },
     "execution_count": 142,
     "metadata": {},
     "output_type": "execute_result"
    }
   ],
   "source": [
    "# Comparez ce résultat avec l'erreur de base calculée juste avant.\n",
    "# Qu'en pensez-vous ?\n",
    "\n",
    "\"Le résultat semble assez proche du réel (si l'on prend en compte l'impact des valeurs a 0)\""
   ]
  },
  {
   "cell_type": "code",
   "execution_count": 143,
   "metadata": {},
   "outputs": [
    {
     "data": {
      "text/plain": [
       "2742804477.3499575"
      ]
     },
     "execution_count": 143,
     "metadata": {},
     "output_type": "execute_result"
    }
   ],
   "source": [
    "# Testons maintenant la Mean Squared Error\n",
    "from sklearn.metrics import mean_squared_error\n",
    "\n",
    "error_ms = mean_squared_error(y, y_pred)\n",
    "error_ms"
   ]
  },
  {
   "cell_type": "code",
   "execution_count": null,
   "metadata": {},
   "outputs": [],
   "source": []
  },
  {
   "cell_type": "code",
   "execution_count": 144,
   "metadata": {},
   "outputs": [
    {
     "data": {
      "text/plain": [
       "'Le résultat semble beaucoup moins probant'"
      ]
     },
     "execution_count": 144,
     "metadata": {},
     "output_type": "execute_result"
    }
   ],
   "source": [
    "# Comparez ce résultat avec l'erreur Mean Absolute Error\n",
    "# Qu'en pensez-vous ?\n",
    "\"Le résultat semble beaucoup moins probant\"\n"
   ]
  },
  {
   "cell_type": "code",
   "execution_count": 145,
   "metadata": {},
   "outputs": [],
   "source": [
    "# Pour en savoir plus sur les scores : https://scikit-learn.org/stable/modules/model_evaluation.html"
   ]
  },
  {
   "cell_type": "code",
   "execution_count": null,
   "metadata": {},
   "outputs": [],
   "source": []
  },
  {
   "cell_type": "code",
   "execution_count": null,
   "metadata": {},
   "outputs": [],
   "source": []
  }
 ],
 "metadata": {
  "kernelspec": {
   "display_name": "Python 3",
   "language": "python",
   "name": "python3"
  },
  "language_info": {
   "codemirror_mode": {
    "name": "ipython",
    "version": 3
   },
   "file_extension": ".py",
   "mimetype": "text/x-python",
   "name": "python",
   "nbconvert_exporter": "python",
   "pygments_lexer": "ipython3",
   "version": "3.8.5"
  }
 },
 "nbformat": 4,
 "nbformat_minor": 4
}
