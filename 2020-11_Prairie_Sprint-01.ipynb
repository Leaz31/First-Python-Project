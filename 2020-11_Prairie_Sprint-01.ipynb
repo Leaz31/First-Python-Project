{
 "cells": [
  {
   "cell_type": "markdown",
   "metadata": {},
   "source": [
    "# 2020-11-23 - Projet de Prairie - DCV"
   ]
  },
  {
   "cell_type": "markdown",
   "metadata": {},
   "source": [
    "## Contexte\n",
    "\n",
    "Dans ce projet, nous allons explorer un jeu de données afin de découvrir la manipulation de données et construire nos premiers modèles de prédiction de Machine Learning.\n",
    "\n",
    "Nous allons utiliser un jeu de données mis à disposition par le gouvernement. Cela concerne les valeurs de transactions immobilières. Le but va être de créer un modèle qui prédit le prix du marché d'un bien en fonction de certaines de ses caractéristiques (nombre de pièces, surface, emplacement...).\n",
    "\n",
    "## Objectifs pédagogiques\n",
    "\n",
    "* Découvrir la manipulation de données\n",
    "* Etre sensibiliser au déroulement d'un projet de Data Science\n",
    "\n"
   ]
  },
  {
   "cell_type": "markdown",
   "metadata": {},
   "source": [
    "# Sprint 1 "
   ]
  },
  {
   "cell_type": "markdown",
   "metadata": {},
   "source": [
    "## Chargement des données\n",
    "\n",
    "1. Télécharger les données \n",
    "    * Les données du premier semestre 2020 : \n",
    "    * La foire aux questions\n",
    "    * La notice descriptive\n",
    "    * https://www.data.gouv.fr/fr/datasets/demandes-de-valeurs-foncieres/#_\n",
    "* Ouvrir un terminal de commande\n",
    "* Se déplacer dans le dossier où le fichier a été téléchargé\n",
    "* Quelle est la taille du fichier en MB ?\n",
    "    1. Tip : commande `ls -h`    "
   ]
  },
  {
   "cell_type": "code",
   "execution_count": 4,
   "metadata": {},
   "outputs": [
    {
     "ename": "SyntaxError",
     "evalue": "invalid syntax (<ipython-input-4-3371acf0a5a2>, line 1)",
     "output_type": "error",
     "traceback": [
      "\u001b[0;36m  File \u001b[0;32m\"<ipython-input-4-3371acf0a5a2>\"\u001b[0;36m, line \u001b[0;32m1\u001b[0m\n\u001b[0;31m    106Mb\u001b[0m\n\u001b[0m       ^\u001b[0m\n\u001b[0;31mSyntaxError\u001b[0m\u001b[0;31m:\u001b[0m invalid syntax\n"
     ]
    }
   ],
   "source": [
    "106Mb"
   ]
  },
  {
   "cell_type": "markdown",
   "metadata": {},
   "source": [
    "\n",
    "5. Afficher les premières lignes du fichier\n",
    "    1. Tip : commande `head`"
   ]
  },
  {
   "cell_type": "code",
   "execution_count": 5,
   "metadata": {},
   "outputs": [
    {
     "ename": "SyntaxError",
     "evalue": "invalid syntax (<ipython-input-5-635bea90fd18>, line 2)",
     "output_type": "error",
     "traceback": [
      "\u001b[0;36m  File \u001b[0;32m\"<ipython-input-5-635bea90fd18>\"\u001b[0;36m, line \u001b[0;32m2\u001b[0m\n\u001b[0;31m    Les titres des colonnes\u001b[0m\n\u001b[0m        ^\u001b[0m\n\u001b[0;31mSyntaxError\u001b[0m\u001b[0;31m:\u001b[0m invalid syntax\n"
     ]
    }
   ],
   "source": [
    "# Que représente la 1ère ligne ?\n",
    "Les titres des colonnes"
   ]
  },
  {
   "cell_type": "code",
   "execution_count": 6,
   "metadata": {},
   "outputs": [
    {
     "ename": "SyntaxError",
     "evalue": "invalid syntax (<ipython-input-6-fe7261c45f1c>, line 2)",
     "output_type": "error",
     "traceback": [
      "\u001b[0;36m  File \u001b[0;32m\"<ipython-input-6-fe7261c45f1c>\"\u001b[0;36m, line \u001b[0;32m2\u001b[0m\n\u001b[0;31m    Toutes les transactions effectuées\u001b[0m\n\u001b[0m           ^\u001b[0m\n\u001b[0;31mSyntaxError\u001b[0m\u001b[0;31m:\u001b[0m invalid syntax\n"
     ]
    }
   ],
   "source": [
    "# Que représentent les lignes suivantes ?\n",
    "Toutes les transactions effectuées"
   ]
  },
  {
   "cell_type": "code",
   "execution_count": 7,
   "metadata": {},
   "outputs": [
    {
     "ename": "SyntaxError",
     "evalue": "invalid syntax (<ipython-input-7-c5f4992f06bc>, line 2)",
     "output_type": "error",
     "traceback": [
      "\u001b[0;36m  File \u001b[0;32m\"<ipython-input-7-c5f4992f06bc>\"\u001b[0;36m, line \u001b[0;32m2\u001b[0m\n\u001b[0;31m    Le pipe\u001b[0m\n\u001b[0m       ^\u001b[0m\n\u001b[0;31mSyntaxError\u001b[0m\u001b[0;31m:\u001b[0m invalid syntax\n"
     ]
    }
   ],
   "source": [
    "# Par quel(s) caractère(s) sont séparées les données ?\n",
    "Le pipe"
   ]
  },
  {
   "cell_type": "markdown",
   "metadata": {},
   "source": [
    "## Exploration visuelle\n",
    "* Ouvrir le fichier avec LibreOffice Calc\n",
    "    1. En précisant le séparateur identifié précédemment\n"
   ]
  },
  {
   "cell_type": "code",
   "execution_count": 8,
   "metadata": {},
   "outputs": [
    {
     "data": {
      "text/plain": [
       "827106"
      ]
     },
     "execution_count": 8,
     "metadata": {},
     "output_type": "execute_result"
    }
   ],
   "source": [
    "# Combien de lignes comporte le fichier ?\n",
    "827106"
   ]
  },
  {
   "cell_type": "code",
   "execution_count": 9,
   "metadata": {},
   "outputs": [
    {
     "ename": "SyntaxError",
     "evalue": "leading zeros in decimal integer literals are not permitted; use an 0o prefix for octal integers (<ipython-input-9-dbf557198c30>, line 2)",
     "output_type": "error",
     "traceback": [
      "\u001b[0;36m  File \u001b[0;32m\"<ipython-input-9-dbf557198c30>\"\u001b[0;36m, line \u001b[0;32m2\u001b[0m\n\u001b[0;31m    01/01/2020 et 31/05/2020\u001b[0m\n\u001b[0m     ^\u001b[0m\n\u001b[0;31mSyntaxError\u001b[0m\u001b[0;31m:\u001b[0m leading zeros in decimal integer literals are not permitted; use an 0o prefix for octal integers\n"
     ]
    }
   ],
   "source": [
    "# Quand ont eu lieu la première et la dernière transaction ?\n",
    "01/01/2020 et 31/05/2020"
   ]
  },
  {
   "cell_type": "code",
   "execution_count": 10,
   "metadata": {},
   "outputs": [
    {
     "ename": "SyntaxError",
     "evalue": "leading zeros in decimal integer literals are not permitted; use an 0o prefix for octal integers (<ipython-input-10-359c33fc6cab>, line 10)",
     "output_type": "error",
     "traceback": [
      "\u001b[0;36m  File \u001b[0;32m\"<ipython-input-10-359c33fc6cab>\"\u001b[0;36m, line \u001b[0;32m10\u001b[0m\n\u001b[0;31m    14/01/2020\u001b[0m\n\u001b[0m        ^\u001b[0m\n\u001b[0;31mSyntaxError\u001b[0m\u001b[0;31m:\u001b[0m leading zeros in decimal integer literals are not permitted; use an 0o prefix for octal integers\n"
     ]
    }
   ],
   "source": [
    "# Observez le bien situé au \"5 RUE DES BEGONIAS, Toulouse\"\n",
    "# Quel est son prix de vente ?\n",
    "\n",
    "330000\n",
    "# La TVA est-elle incluse ?\n",
    "\n",
    "Oui\n",
    "# Quand a-t-il été vendu ?\n",
    "\n",
    "14/01/2020\n",
    "# Quelle est sa surface ?\n",
    "\n",
    "148m²\n",
    "# De quel type de bien s'agit-il ?\n",
    "Maison"
   ]
  },
  {
   "cell_type": "code",
   "execution_count": 11,
   "metadata": {},
   "outputs": [
    {
     "ename": "SyntaxError",
     "evalue": "invalid syntax (<ipython-input-11-53f520d854dd>, line 2)",
     "output_type": "error",
     "traceback": [
      "\u001b[0;36m  File \u001b[0;32m\"<ipython-input-11-53f520d854dd>\"\u001b[0;36m, line \u001b[0;32m2\u001b[0m\n\u001b[0;31m    A la référence cadastrale de la parcelle\u001b[0m\n\u001b[0m      ^\u001b[0m\n\u001b[0;31mSyntaxError\u001b[0m\u001b[0;31m:\u001b[0m invalid syntax\n"
     ]
    }
   ],
   "source": [
    "# A quoi fait référence la colonne \"No Plan\" ?\n",
    "A la référence cadastrale de la parcelle"
   ]
  },
  {
   "cell_type": "code",
   "execution_count": 12,
   "metadata": {},
   "outputs": [
    {
     "ename": "SyntaxError",
     "evalue": "invalid syntax (<ipython-input-12-da98ada4ac6f>, line 3)",
     "output_type": "error",
     "traceback": [
      "\u001b[0;36m  File \u001b[0;32m\"<ipython-input-12-da98ada4ac6f>\"\u001b[0;36m, line \u001b[0;32m3\u001b[0m\n\u001b[0;31m    Au type de local utilisé :\u001b[0m\n\u001b[0m       ^\u001b[0m\n\u001b[0;31mSyntaxError\u001b[0m\u001b[0;31m:\u001b[0m invalid syntax\n"
     ]
    }
   ],
   "source": [
    "# A quoi correspondent les types : 1, 2, 3, 4 et 5 ?\n",
    "\n",
    "Au type de local utilisé :\n",
    "    1 : maison\n",
    "    2 : appartement\n",
    "    3 : dépendance (isolée)\n",
    "    4 : local industriel et commercial ou assimilé\n",
    "    5 : n'existe pas"
   ]
  },
  {
   "cell_type": "code",
   "execution_count": 13,
   "metadata": {},
   "outputs": [
    {
     "ename": "SyntaxError",
     "evalue": "invalid character in identifier (<ipython-input-13-fafd36b7b6ab>, line 3)",
     "output_type": "error",
     "traceback": [
      "\u001b[0;36m  File \u001b[0;32m\"<ipython-input-13-fafd36b7b6ab>\"\u001b[0;36m, line \u001b[0;32m3\u001b[0m\n\u001b[0;31m    46m²\u001b[0m\n\u001b[0m       ^\u001b[0m\n\u001b[0;31mSyntaxError\u001b[0m\u001b[0;31m:\u001b[0m invalid character in identifier\n"
     ]
    }
   ],
   "source": [
    "# Observez la transaction du \"5 RUE COMTE DE LA TEYSSONNIERE, BOURG-EN-BRESSE\"\n",
    "# Quelle est la surface du bien ?\n",
    "46m²"
   ]
  },
  {
   "cell_type": "code",
   "execution_count": 14,
   "metadata": {},
   "outputs": [
    {
     "ename": "SyntaxError",
     "evalue": "invalid syntax (<ipython-input-14-1f56a9d7b2d8>, line 4)",
     "output_type": "error",
     "traceback": [
      "\u001b[0;36m  File \u001b[0;32m\"<ipython-input-14-1f56a9d7b2d8>\"\u001b[0;36m, line \u001b[0;32m4\u001b[0m\n\u001b[0;31m    Terrain d'agréments et sols\u001b[0m\n\u001b[0m            ^\u001b[0m\n\u001b[0;31mSyntaxError\u001b[0m\u001b[0;31m:\u001b[0m invalid syntax\n"
     ]
    }
   ],
   "source": [
    "# Observez la transaction du \"1671 CHEMIN DE LA BALMONDIERE, SAINT-ANDRE-D HUIRIAT\"\n",
    "# A quoi correspondent les deux lignes ?\n",
    "\n",
    "Terrain d'agréments et sols\n",
    "# Quelle est la surface du bien ?\n",
    "\n",
    "208"
   ]
  },
  {
   "cell_type": "markdown",
   "metadata": {},
   "source": [
    "Maintenant que nous avons mieux compris les données, nous allons les analyser plus finement avec python."
   ]
  },
  {
   "cell_type": "markdown",
   "metadata": {},
   "source": [
    "# Installer l'environnement "
   ]
  },
  {
   "cell_type": "code",
   "execution_count": 15,
   "metadata": {},
   "outputs": [],
   "source": [
    "# Installer jupyter"
   ]
  },
  {
   "cell_type": "markdown",
   "metadata": {},
   "source": [
    "# Charger les données"
   ]
  },
  {
   "cell_type": "code",
   "execution_count": 16,
   "metadata": {
    "scrolled": true
   },
   "outputs": [
    {
     "name": "stdout",
     "output_type": "stream",
     "text": [
      "Defaulting to user installation because normal site-packages is not writeable\n",
      "Requirement already satisfied: pandas in /home/clement/.local/lib/python3.8/site-packages (1.1.4)\n",
      "Requirement already satisfied: pytz>=2017.2 in /usr/lib/python3/dist-packages (from pandas) (2019.3)\n",
      "Requirement already satisfied: numpy>=1.15.4 in /home/clement/.local/lib/python3.8/site-packages (from pandas) (1.19.4)\n",
      "Requirement already satisfied: python-dateutil>=2.7.3 in /usr/lib/python3/dist-packages (from pandas) (2.7.3)\n"
     ]
    }
   ],
   "source": [
    "!pip install pandas"
   ]
  },
  {
   "cell_type": "code",
   "execution_count": 17,
   "metadata": {},
   "outputs": [],
   "source": [
    "import pandas as pd\n"
   ]
  },
  {
   "cell_type": "code",
   "execution_count": 18,
   "metadata": {},
   "outputs": [],
   "source": [
    "import pandas as pd"
   ]
  },
  {
   "cell_type": "code",
   "execution_count": 19,
   "metadata": {},
   "outputs": [],
   "source": [
    "# Chargons les données\n",
    "\n",
    "# Préciser le nom du fichier\n",
    "filename = \"valeursfoncieres-2020.txt\"\n",
    "\n",
    "# Préciser ici le séparateur\n",
    "separator = \"|\"\n",
    "\n",
    "\n",
    "df = pd.read_csv(filename, sep=separator, low_memory=False)"
   ]
  },
  {
   "cell_type": "code",
   "execution_count": 20,
   "metadata": {},
   "outputs": [
    {
     "data": {
      "text/html": [
       "<div>\n",
       "<style scoped>\n",
       "    .dataframe tbody tr th:only-of-type {\n",
       "        vertical-align: middle;\n",
       "    }\n",
       "\n",
       "    .dataframe tbody tr th {\n",
       "        vertical-align: top;\n",
       "    }\n",
       "\n",
       "    .dataframe thead th {\n",
       "        text-align: right;\n",
       "    }\n",
       "</style>\n",
       "<table border=\"1\" class=\"dataframe\">\n",
       "  <thead>\n",
       "    <tr style=\"text-align: right;\">\n",
       "      <th></th>\n",
       "      <th>Code service CH</th>\n",
       "      <th>Reference document</th>\n",
       "      <th>1 Articles CGI</th>\n",
       "      <th>2 Articles CGI</th>\n",
       "      <th>3 Articles CGI</th>\n",
       "      <th>4 Articles CGI</th>\n",
       "      <th>5 Articles CGI</th>\n",
       "      <th>No disposition</th>\n",
       "      <th>Date mutation</th>\n",
       "      <th>Nature mutation</th>\n",
       "      <th>...</th>\n",
       "      <th>Surface Carrez du 5eme lot</th>\n",
       "      <th>Nombre de lots</th>\n",
       "      <th>Code type local</th>\n",
       "      <th>Type local</th>\n",
       "      <th>Identifiant local</th>\n",
       "      <th>Surface reelle bati</th>\n",
       "      <th>Nombre pieces principales</th>\n",
       "      <th>Nature culture</th>\n",
       "      <th>Nature culture speciale</th>\n",
       "      <th>Surface terrain</th>\n",
       "    </tr>\n",
       "  </thead>\n",
       "  <tbody>\n",
       "    <tr>\n",
       "      <th>0</th>\n",
       "      <td>NaN</td>\n",
       "      <td>NaN</td>\n",
       "      <td>NaN</td>\n",
       "      <td>NaN</td>\n",
       "      <td>NaN</td>\n",
       "      <td>NaN</td>\n",
       "      <td>NaN</td>\n",
       "      <td>1</td>\n",
       "      <td>07/01/2020</td>\n",
       "      <td>Vente</td>\n",
       "      <td>...</td>\n",
       "      <td>NaN</td>\n",
       "      <td>0</td>\n",
       "      <td>NaN</td>\n",
       "      <td>NaN</td>\n",
       "      <td>NaN</td>\n",
       "      <td>NaN</td>\n",
       "      <td>NaN</td>\n",
       "      <td>T</td>\n",
       "      <td>NaN</td>\n",
       "      <td>1061.0</td>\n",
       "    </tr>\n",
       "    <tr>\n",
       "      <th>1</th>\n",
       "      <td>NaN</td>\n",
       "      <td>NaN</td>\n",
       "      <td>NaN</td>\n",
       "      <td>NaN</td>\n",
       "      <td>NaN</td>\n",
       "      <td>NaN</td>\n",
       "      <td>NaN</td>\n",
       "      <td>1</td>\n",
       "      <td>07/01/2020</td>\n",
       "      <td>Vente</td>\n",
       "      <td>...</td>\n",
       "      <td>NaN</td>\n",
       "      <td>0</td>\n",
       "      <td>NaN</td>\n",
       "      <td>NaN</td>\n",
       "      <td>NaN</td>\n",
       "      <td>NaN</td>\n",
       "      <td>NaN</td>\n",
       "      <td>AB</td>\n",
       "      <td>NaN</td>\n",
       "      <td>610.0</td>\n",
       "    </tr>\n",
       "    <tr>\n",
       "      <th>2</th>\n",
       "      <td>NaN</td>\n",
       "      <td>NaN</td>\n",
       "      <td>NaN</td>\n",
       "      <td>NaN</td>\n",
       "      <td>NaN</td>\n",
       "      <td>NaN</td>\n",
       "      <td>NaN</td>\n",
       "      <td>1</td>\n",
       "      <td>14/01/2020</td>\n",
       "      <td>Vente</td>\n",
       "      <td>...</td>\n",
       "      <td>NaN</td>\n",
       "      <td>0</td>\n",
       "      <td>NaN</td>\n",
       "      <td>NaN</td>\n",
       "      <td>NaN</td>\n",
       "      <td>NaN</td>\n",
       "      <td>NaN</td>\n",
       "      <td>AB</td>\n",
       "      <td>NaN</td>\n",
       "      <td>600.0</td>\n",
       "    </tr>\n",
       "    <tr>\n",
       "      <th>3</th>\n",
       "      <td>NaN</td>\n",
       "      <td>NaN</td>\n",
       "      <td>NaN</td>\n",
       "      <td>NaN</td>\n",
       "      <td>NaN</td>\n",
       "      <td>NaN</td>\n",
       "      <td>NaN</td>\n",
       "      <td>1</td>\n",
       "      <td>14/01/2020</td>\n",
       "      <td>Vente</td>\n",
       "      <td>...</td>\n",
       "      <td>NaN</td>\n",
       "      <td>0</td>\n",
       "      <td>NaN</td>\n",
       "      <td>NaN</td>\n",
       "      <td>NaN</td>\n",
       "      <td>NaN</td>\n",
       "      <td>NaN</td>\n",
       "      <td>AB</td>\n",
       "      <td>NaN</td>\n",
       "      <td>491.0</td>\n",
       "    </tr>\n",
       "    <tr>\n",
       "      <th>4</th>\n",
       "      <td>NaN</td>\n",
       "      <td>NaN</td>\n",
       "      <td>NaN</td>\n",
       "      <td>NaN</td>\n",
       "      <td>NaN</td>\n",
       "      <td>NaN</td>\n",
       "      <td>NaN</td>\n",
       "      <td>1</td>\n",
       "      <td>22/01/2020</td>\n",
       "      <td>Vente</td>\n",
       "      <td>...</td>\n",
       "      <td>NaN</td>\n",
       "      <td>0</td>\n",
       "      <td>1.0</td>\n",
       "      <td>Maison</td>\n",
       "      <td>NaN</td>\n",
       "      <td>78.0</td>\n",
       "      <td>5.0</td>\n",
       "      <td>S</td>\n",
       "      <td>NaN</td>\n",
       "      <td>242.0</td>\n",
       "    </tr>\n",
       "  </tbody>\n",
       "</table>\n",
       "<p>5 rows × 43 columns</p>\n",
       "</div>"
      ],
      "text/plain": [
       "   Code service CH  Reference document  1 Articles CGI  2 Articles CGI  \\\n",
       "0              NaN                 NaN             NaN             NaN   \n",
       "1              NaN                 NaN             NaN             NaN   \n",
       "2              NaN                 NaN             NaN             NaN   \n",
       "3              NaN                 NaN             NaN             NaN   \n",
       "4              NaN                 NaN             NaN             NaN   \n",
       "\n",
       "   3 Articles CGI  4 Articles CGI  5 Articles CGI  No disposition  \\\n",
       "0             NaN             NaN             NaN               1   \n",
       "1             NaN             NaN             NaN               1   \n",
       "2             NaN             NaN             NaN               1   \n",
       "3             NaN             NaN             NaN               1   \n",
       "4             NaN             NaN             NaN               1   \n",
       "\n",
       "  Date mutation Nature mutation  ... Surface Carrez du 5eme lot  \\\n",
       "0    07/01/2020           Vente  ...                        NaN   \n",
       "1    07/01/2020           Vente  ...                        NaN   \n",
       "2    14/01/2020           Vente  ...                        NaN   \n",
       "3    14/01/2020           Vente  ...                        NaN   \n",
       "4    22/01/2020           Vente  ...                        NaN   \n",
       "\n",
       "   Nombre de lots Code type local Type local Identifiant local  \\\n",
       "0               0             NaN        NaN               NaN   \n",
       "1               0             NaN        NaN               NaN   \n",
       "2               0             NaN        NaN               NaN   \n",
       "3               0             NaN        NaN               NaN   \n",
       "4               0             1.0     Maison               NaN   \n",
       "\n",
       "  Surface reelle bati  Nombre pieces principales Nature culture  \\\n",
       "0                 NaN                        NaN              T   \n",
       "1                 NaN                        NaN             AB   \n",
       "2                 NaN                        NaN             AB   \n",
       "3                 NaN                        NaN             AB   \n",
       "4                78.0                        5.0              S   \n",
       "\n",
       "  Nature culture speciale  Surface terrain  \n",
       "0                     NaN           1061.0  \n",
       "1                     NaN            610.0  \n",
       "2                     NaN            600.0  \n",
       "3                     NaN            491.0  \n",
       "4                     NaN            242.0  \n",
       "\n",
       "[5 rows x 43 columns]"
      ]
     },
     "execution_count": 20,
     "metadata": {},
     "output_type": "execute_result"
    }
   ],
   "source": [
    "# Affichons les premières lignes\n",
    "df.head()"
   ]
  },
  {
   "cell_type": "code",
   "execution_count": 21,
   "metadata": {},
   "outputs": [
    {
     "name": "stdout",
     "output_type": "stream",
     "text": [
      "Index(['Code service CH', 'Reference document', '1 Articles CGI',\n",
      "       '2 Articles CGI', '3 Articles CGI', '4 Articles CGI', '5 Articles CGI',\n",
      "       'No disposition', 'Date mutation', 'Nature mutation', 'Valeur fonciere',\n",
      "       'No voie', 'B/T/Q', 'Type de voie', 'Code voie', 'Voie', 'Code postal',\n",
      "       'Commune', 'Code departement', 'Code commune', 'Prefixe de section',\n",
      "       'Section', 'No plan', 'No Volume', '1er lot',\n",
      "       'Surface Carrez du 1er lot', '2eme lot', 'Surface Carrez du 2eme lot',\n",
      "       '3eme lot', 'Surface Carrez du 3eme lot', '4eme lot',\n",
      "       'Surface Carrez du 4eme lot', '5eme lot', 'Surface Carrez du 5eme lot',\n",
      "       'Nombre de lots', 'Code type local', 'Type local', 'Identifiant local',\n",
      "       'Surface reelle bati', 'Nombre pieces principales', 'Nature culture',\n",
      "       'Nature culture speciale', 'Surface terrain'],\n",
      "      dtype='object')\n"
     ]
    }
   ],
   "source": [
    "# Affichons les colonnes\n",
    "print(df.columns)"
   ]
  },
  {
   "cell_type": "code",
   "execution_count": 22,
   "metadata": {},
   "outputs": [
    {
     "name": "stdout",
     "output_type": "stream",
     "text": [
      "<class 'pandas.core.frame.DataFrame'>\n",
      "RangeIndex: 827105 entries, 0 to 827104\n",
      "Data columns (total 43 columns):\n",
      " #   Column                      Non-Null Count   Dtype  \n",
      "---  ------                      --------------   -----  \n",
      " 0   Code service CH             0 non-null       float64\n",
      " 1   Reference document          0 non-null       float64\n",
      " 2   1 Articles CGI              0 non-null       float64\n",
      " 3   2 Articles CGI              0 non-null       float64\n",
      " 4   3 Articles CGI              0 non-null       float64\n",
      " 5   4 Articles CGI              0 non-null       float64\n",
      " 6   5 Articles CGI              0 non-null       float64\n",
      " 7   No disposition              827105 non-null  int64  \n",
      " 8   Date mutation               827105 non-null  object \n",
      " 9   Nature mutation             827105 non-null  object \n",
      " 10  Valeur fonciere             817376 non-null  object \n",
      " 11  No voie                     516417 non-null  float64\n",
      " 12  B/T/Q                       37384 non-null   object \n",
      " 13  Type de voie                508531 non-null  object \n",
      " 14  Code voie                   817720 non-null  object \n",
      " 15  Voie                        817665 non-null  object \n",
      " 16  Code postal                 817713 non-null  float64\n",
      " 17  Commune                     827105 non-null  object \n",
      " 18  Code departement            827105 non-null  object \n",
      " 19  Code commune                827105 non-null  int64  \n",
      " 20  Prefixe de section          37276 non-null   float64\n",
      " 21  Section                     827054 non-null  object \n",
      " 22  No plan                     827105 non-null  int64  \n",
      " 23  No Volume                   2181 non-null    object \n",
      " 24  1er lot                     274265 non-null  object \n",
      " 25  Surface Carrez du 1er lot   80479 non-null   object \n",
      " 26  2eme lot                    59344 non-null   object \n",
      " 27  Surface Carrez du 2eme lot  19856 non-null   object \n",
      " 28  3eme lot                    9417 non-null    object \n",
      " 29  Surface Carrez du 3eme lot  1820 non-null    object \n",
      " 30  4eme lot                    3349 non-null    float64\n",
      " 31  Surface Carrez du 4eme lot  476 non-null     object \n",
      " 32  5eme lot                    1477 non-null    float64\n",
      " 33  Surface Carrez du 5eme lot  238 non-null     object \n",
      " 34  Nombre de lots              827105 non-null  int64  \n",
      " 35  Code type local             463460 non-null  float64\n",
      " 36  Type local                  463460 non-null  object \n",
      " 37  Identifiant local           0 non-null       float64\n",
      " 38  Surface reelle bati         462976 non-null  float64\n",
      " 39  Nombre pieces principales   462976 non-null  float64\n",
      " 40  Nature culture              549790 non-null  object \n",
      " 41  Nature culture speciale     35149 non-null   object \n",
      " 42  Surface terrain             549790 non-null  float64\n",
      "dtypes: float64(17), int64(4), object(22)\n",
      "memory usage: 271.3+ MB\n"
     ]
    }
   ],
   "source": [
    "## Affichons quelques informations sur le dataframe\n",
    "df.info(verbose=True)"
   ]
  },
  {
   "cell_type": "code",
   "execution_count": 23,
   "metadata": {},
   "outputs": [
    {
     "name": "stdout",
     "output_type": "stream",
     "text": [
      "<class 'pandas.core.frame.DataFrame'>\n",
      "RangeIndex: 827105 entries, 0 to 827104\n",
      "Data columns (total 43 columns):\n",
      " #   Column                      Non-Null Count   Dtype  \n",
      "---  ------                      --------------   -----  \n",
      " 0   Code service CH             0 non-null       float64\n",
      " 1   Reference document          0 non-null       float64\n",
      " 2   1 Articles CGI              0 non-null       float64\n",
      " 3   2 Articles CGI              0 non-null       float64\n",
      " 4   3 Articles CGI              0 non-null       float64\n",
      " 5   4 Articles CGI              0 non-null       float64\n",
      " 6   5 Articles CGI              0 non-null       float64\n",
      " 7   No disposition              827105 non-null  int64  \n",
      " 8   Date mutation               827105 non-null  object \n",
      " 9   Nature mutation             827105 non-null  object \n",
      " 10  Valeur fonciere             817376 non-null  object \n",
      " 11  No voie                     516417 non-null  float64\n",
      " 12  B/T/Q                       37384 non-null   object \n",
      " 13  Type de voie                508531 non-null  object \n",
      " 14  Code voie                   817720 non-null  object \n",
      " 15  Voie                        817665 non-null  object \n",
      " 16  Code postal                 817713 non-null  float64\n",
      " 17  Commune                     827105 non-null  object \n",
      " 18  Code departement            827105 non-null  object \n",
      " 19  Code commune                827105 non-null  int64  \n",
      " 20  Prefixe de section          37276 non-null   float64\n",
      " 21  Section                     827054 non-null  object \n",
      " 22  No plan                     827105 non-null  int64  \n",
      " 23  No Volume                   2181 non-null    object \n",
      " 24  1er lot                     274265 non-null  object \n",
      " 25  Surface Carrez du 1er lot   80479 non-null   object \n",
      " 26  2eme lot                    59344 non-null   object \n",
      " 27  Surface Carrez du 2eme lot  19856 non-null   object \n",
      " 28  3eme lot                    9417 non-null    object \n",
      " 29  Surface Carrez du 3eme lot  1820 non-null    object \n",
      " 30  4eme lot                    3349 non-null    float64\n",
      " 31  Surface Carrez du 4eme lot  476 non-null     object \n",
      " 32  5eme lot                    1477 non-null    float64\n",
      " 33  Surface Carrez du 5eme lot  238 non-null     object \n",
      " 34  Nombre de lots              827105 non-null  int64  \n",
      " 35  Code type local             463460 non-null  float64\n",
      " 36  Type local                  463460 non-null  object \n",
      " 37  Identifiant local           0 non-null       float64\n",
      " 38  Surface reelle bati         462976 non-null  float64\n",
      " 39  Nombre pieces principales   462976 non-null  float64\n",
      " 40  Nature culture              549790 non-null  object \n",
      " 41  Nature culture speciale     35149 non-null   object \n",
      " 42  Surface terrain             549790 non-null  float64\n",
      "dtypes: float64(17), int64(4), object(22)\n",
      "memory usage: 271.3+ MB\n"
     ]
    }
   ],
   "source": [
    "# Affichons l'utilisation de la mémoire\n",
    "df.memory_usage(deep=True)/1000000\n",
    "\n",
    "df.info(verbose=True)\n"
   ]
  },
  {
   "cell_type": "code",
   "execution_count": 24,
   "metadata": {},
   "outputs": [
    {
     "data": {
      "text/plain": [
       "object"
      ]
     },
     "execution_count": 24,
     "metadata": {},
     "output_type": "execute_result"
    }
   ],
   "source": [
    "# Quelles sont les 3 colonnes qui occupent le plus de mémoire ?\n",
    "# REPONSE Voie, Commune, Date mutation\n",
    "\n",
    "# Quels sont leurs types respectifs ?\n",
    "object\n"
   ]
  },
  {
   "cell_type": "markdown",
   "metadata": {},
   "source": [
    "Nous allons sélectionner un sous-ensemble des colonnes\n",
    "\n",
    "1. Nature de la mutation, \n",
    "* Code postal, \n",
    "* numéro de département, \n",
    "* prix, \n",
    "* type de bien, \n",
    "* surface réelle, \n",
    "* nb pièces principales\n"
   ]
  },
  {
   "cell_type": "code",
   "execution_count": 25,
   "metadata": {},
   "outputs": [],
   "source": [
    "# Renseigner le nom des colonnes à conserver\n",
    "columns_to_keep = [\"Code postal\",\n",
    "                   \"Code departement\",\n",
    "                   \"Valeur fonciere\",\n",
    "                   \"Type local\",\n",
    "                   \"Surface reelle bati\",\n",
    "                   \"Nombre pieces principales\",\n",
    "                   \"Nature mutation\"]"
   ]
  },
  {
   "cell_type": "code",
   "execution_count": 26,
   "metadata": {},
   "outputs": [
    {
     "name": "stdout",
     "output_type": "stream",
     "text": [
      "<class 'pandas.core.frame.DataFrame'>\n",
      "RangeIndex: 827105 entries, 0 to 827104\n",
      "Data columns (total 7 columns):\n",
      " #   Column                     Non-Null Count   Dtype  \n",
      "---  ------                     --------------   -----  \n",
      " 0   Code postal                817713 non-null  float64\n",
      " 1   Code departement           827105 non-null  object \n",
      " 2   Valeur fonciere            817376 non-null  object \n",
      " 3   Type local                 463460 non-null  object \n",
      " 4   Surface reelle bati        462976 non-null  float64\n",
      " 5   Nombre pieces principales  462976 non-null  float64\n",
      " 6   Nature mutation            827105 non-null  object \n",
      "dtypes: float64(3), object(4)\n",
      "memory usage: 44.2+ MB\n"
     ]
    }
   ],
   "source": [
    "# Définir le nouveau dataframe\n",
    "df_light_columns = df[columns_to_keep]\n",
    "\n",
    "df_light_columns.info(verbose=True)\n",
    "\n"
   ]
  },
  {
   "cell_type": "code",
   "execution_count": 27,
   "metadata": {},
   "outputs": [
    {
     "data": {
      "text/html": [
       "<div>\n",
       "<style scoped>\n",
       "    .dataframe tbody tr th:only-of-type {\n",
       "        vertical-align: middle;\n",
       "    }\n",
       "\n",
       "    .dataframe tbody tr th {\n",
       "        vertical-align: top;\n",
       "    }\n",
       "\n",
       "    .dataframe thead th {\n",
       "        text-align: right;\n",
       "    }\n",
       "</style>\n",
       "<table border=\"1\" class=\"dataframe\">\n",
       "  <thead>\n",
       "    <tr style=\"text-align: right;\">\n",
       "      <th></th>\n",
       "      <th>Code postal</th>\n",
       "      <th>Code departement</th>\n",
       "      <th>Valeur fonciere</th>\n",
       "      <th>Type local</th>\n",
       "      <th>Surface reelle bati</th>\n",
       "      <th>Nombre pieces principales</th>\n",
       "      <th>Nature mutation</th>\n",
       "    </tr>\n",
       "  </thead>\n",
       "  <tbody>\n",
       "    <tr>\n",
       "      <th>0</th>\n",
       "      <td>1250.0</td>\n",
       "      <td>01</td>\n",
       "      <td>8000,00</td>\n",
       "      <td>NaN</td>\n",
       "      <td>NaN</td>\n",
       "      <td>NaN</td>\n",
       "      <td>Vente</td>\n",
       "    </tr>\n",
       "    <tr>\n",
       "      <th>1</th>\n",
       "      <td>1960.0</td>\n",
       "      <td>01</td>\n",
       "      <td>75000,00</td>\n",
       "      <td>NaN</td>\n",
       "      <td>NaN</td>\n",
       "      <td>NaN</td>\n",
       "      <td>Vente</td>\n",
       "    </tr>\n",
       "    <tr>\n",
       "      <th>2</th>\n",
       "      <td>1340.0</td>\n",
       "      <td>01</td>\n",
       "      <td>89000,00</td>\n",
       "      <td>NaN</td>\n",
       "      <td>NaN</td>\n",
       "      <td>NaN</td>\n",
       "      <td>Vente</td>\n",
       "    </tr>\n",
       "    <tr>\n",
       "      <th>3</th>\n",
       "      <td>1340.0</td>\n",
       "      <td>01</td>\n",
       "      <td>89000,00</td>\n",
       "      <td>NaN</td>\n",
       "      <td>NaN</td>\n",
       "      <td>NaN</td>\n",
       "      <td>Vente</td>\n",
       "    </tr>\n",
       "    <tr>\n",
       "      <th>4</th>\n",
       "      <td>1000.0</td>\n",
       "      <td>01</td>\n",
       "      <td>209950,00</td>\n",
       "      <td>Maison</td>\n",
       "      <td>78.0</td>\n",
       "      <td>5.0</td>\n",
       "      <td>Vente</td>\n",
       "    </tr>\n",
       "  </tbody>\n",
       "</table>\n",
       "</div>"
      ],
      "text/plain": [
       "   Code postal Code departement Valeur fonciere Type local  \\\n",
       "0       1250.0               01         8000,00        NaN   \n",
       "1       1960.0               01        75000,00        NaN   \n",
       "2       1340.0               01        89000,00        NaN   \n",
       "3       1340.0               01        89000,00        NaN   \n",
       "4       1000.0               01       209950,00     Maison   \n",
       "\n",
       "   Surface reelle bati  Nombre pieces principales Nature mutation  \n",
       "0                  NaN                        NaN           Vente  \n",
       "1                  NaN                        NaN           Vente  \n",
       "2                  NaN                        NaN           Vente  \n",
       "3                  NaN                        NaN           Vente  \n",
       "4                 78.0                        5.0           Vente  "
      ]
     },
     "execution_count": 27,
     "metadata": {},
     "output_type": "execute_result"
    }
   ],
   "source": [
    "df_light_columns.head()"
   ]
  },
  {
   "cell_type": "code",
   "execution_count": 28,
   "metadata": {},
   "outputs": [
    {
     "name": "stdout",
     "output_type": "stream",
     "text": [
      "<class 'pandas.core.frame.DataFrame'>\n",
      "RangeIndex: 827105 entries, 0 to 827104\n",
      "Data columns (total 7 columns):\n",
      " #   Column                     Non-Null Count   Dtype  \n",
      "---  ------                     --------------   -----  \n",
      " 0   Code postal                817713 non-null  float64\n",
      " 1   Code departement           827105 non-null  object \n",
      " 2   Valeur fonciere            817376 non-null  object \n",
      " 3   Type local                 463460 non-null  object \n",
      " 4   Surface reelle bati        462976 non-null  float64\n",
      " 5   Nombre pieces principales  462976 non-null  float64\n",
      " 6   Nature mutation            827105 non-null  object \n",
      "dtypes: float64(3), object(4)\n",
      "memory usage: 44.2+ MB\n",
      "\u001b[34m La différence d'utilisation de mémoire est de 233.4 Mb\n"
     ]
    }
   ],
   "source": [
    "# Quelle est la taille mémoire de ce nouveau dataframe ?\n",
    "df_light_columns.memory_usage(deep=True)/1000000\n",
    "\n",
    "# Combien de MB en moins avons-nous par rapport au dataframe initial ?\n",
    "df_light_columns.info(verbose=True)\n",
    "a = 271.3-37.9\n",
    "print('\\033[34m',\"La différence d'utilisation de mémoire est de\",round(a,1),\"Mb\")"
   ]
  },
  {
   "cell_type": "code",
   "execution_count": 29,
   "metadata": {},
   "outputs": [
    {
     "name": "stdout",
     "output_type": "stream",
     "text": [
      "<class 'pandas.core.frame.DataFrame'>\n",
      "RangeIndex: 827105 entries, 0 to 827104\n",
      "Data columns (total 7 columns):\n",
      " #   Column                     Non-Null Count   Dtype   \n",
      "---  ------                     --------------   -----   \n",
      " 0   Code postal                817713 non-null  float64 \n",
      " 1   Code departement           827105 non-null  object  \n",
      " 2   Valeur fonciere            817376 non-null  object  \n",
      " 3   Type local                 463460 non-null  object  \n",
      " 4   Surface reelle bati        462976 non-null  float64 \n",
      " 5   Nombre pieces principales  462976 non-null  float64 \n",
      " 6   Nature mutation            827105 non-null  category\n",
      "dtypes: category(1), float64(3), object(3)\n",
      "memory usage: 38.7+ MB\n"
     ]
    },
    {
     "name": "stderr",
     "output_type": "stream",
     "text": [
      "<ipython-input-29-60346abd22f3>:4: SettingWithCopyWarning: \n",
      "A value is trying to be set on a copy of a slice from a DataFrame.\n",
      "Try using .loc[row_indexer,col_indexer] = value instead\n",
      "\n",
      "See the caveats in the documentation: https://pandas.pydata.org/pandas-docs/stable/user_guide/indexing.html#returning-a-view-versus-a-copy\n",
      "  df_light_columns['Nature mutation'] = df_light_columns[\"Nature mutation\"].astype('category')\n"
     ]
    }
   ],
   "source": [
    "# Nous allons transformer le type des données\n",
    "# Dans la colonne \"Nature mutation\", il n'y a en fait que peu de possibilités\n",
    "# Nous transformons le type 'object' en type 'category'\n",
    "df_light_columns['Nature mutation'] = df_light_columns[\"Nature mutation\"].astype('category')\n",
    "df_light_columns.info(verbose=True)"
   ]
  },
  {
   "cell_type": "code",
   "execution_count": 31,
   "metadata": {},
   "outputs": [
    {
     "name": "stdout",
     "output_type": "stream",
     "text": [
      "\u001b[34m La différence d'utilisation de mémoire est de 5.5 Mb\n"
     ]
    }
   ],
   "source": [
    "# Quels sont les changements au niveau du type et de la taille mémoire ?\n",
    "b = 44.2-38.7\n",
    "print('\\033[34m',\"La différence d'utilisation de mémoire est de\",round(b,1),\"Mb\")"
   ]
  },
  {
   "cell_type": "code",
   "execution_count": 32,
   "metadata": {},
   "outputs": [
    {
     "name": "stderr",
     "output_type": "stream",
     "text": [
      "<ipython-input-32-39e96211b8e2>:6: SettingWithCopyWarning: \n",
      "A value is trying to be set on a copy of a slice from a DataFrame.\n",
      "Try using .loc[row_indexer,col_indexer] = value instead\n",
      "\n",
      "See the caveats in the documentation: https://pandas.pydata.org/pandas-docs/stable/user_guide/indexing.html#returning-a-view-versus-a-copy\n",
      "  df_light_columns[column] = df_light_columns[column].astype('category')\n"
     ]
    }
   ],
   "source": [
    "# Nous allons procéder ainsi pour les autres colonnes qui le nécessitent\n",
    "\n",
    "columns_to_be_categorical = [\"Code departement\", \"Valeur fonciere\"]\n",
    "\n",
    "for column in columns_to_be_categorical:\n",
    "    df_light_columns[column] = df_light_columns[column].astype('category')   \n",
    "    "
   ]
  },
  {
   "cell_type": "code",
   "execution_count": 33,
   "metadata": {},
   "outputs": [
    {
     "name": "stdout",
     "output_type": "stream",
     "text": [
      "<class 'pandas.core.frame.DataFrame'>\n",
      "RangeIndex: 827105 entries, 0 to 827104\n",
      "Data columns (total 7 columns):\n",
      " #   Column                     Non-Null Count   Dtype   \n",
      "---  ------                     --------------   -----   \n",
      " 0   Code postal                817713 non-null  float64 \n",
      " 1   Code departement           827105 non-null  category\n",
      " 2   Valeur fonciere            817376 non-null  category\n",
      " 3   Type local                 463460 non-null  object  \n",
      " 4   Surface reelle bati        462976 non-null  float64 \n",
      " 5   Nombre pieces principales  462976 non-null  float64 \n",
      " 6   Nature mutation            827105 non-null  category\n",
      "dtypes: category(3), float64(3), object(1)\n",
      "memory usage: 31.6+ MB\n"
     ]
    }
   ],
   "source": [
    "df_light_columns.info(verbose=True)"
   ]
  },
  {
   "cell_type": "code",
   "execution_count": 35,
   "metadata": {},
   "outputs": [
    {
     "name": "stdout",
     "output_type": "stream",
     "text": [
      "\u001b[34m La différence d'utilisation de mémoire est de 7.1 Mb\n"
     ]
    }
   ],
   "source": [
    "# Quelle est le gain effectué au niveau de la taille ?\n",
    "c = 38.7-31.6\n",
    "print('\\033[34m',\"La différence d'utilisation de mémoire est de\",round(c,1),\"Mb\")"
   ]
  },
  {
   "cell_type": "code",
   "execution_count": 36,
   "metadata": {},
   "outputs": [
    {
     "name": "stdout",
     "output_type": "stream",
     "text": [
      "Code postal                     1250\n",
      "Code departement                  01\n",
      "Valeur fonciere              8000,00\n",
      "Type local                       NaN\n",
      "Surface reelle bati              NaN\n",
      "Nombre pieces principales        NaN\n",
      "Nature mutation                Vente\n",
      "Name: 0, dtype: object\n"
     ]
    }
   ],
   "source": [
    "# Essayons d'additionner le prix de deux biens \n",
    "\n",
    "# Tout d'abord sélectionnons la ligne 0\n",
    "row_0 = df_light_columns.iloc[0]\n",
    "print(row_0)"
   ]
  },
  {
   "cell_type": "code",
   "execution_count": 37,
   "metadata": {},
   "outputs": [
    {
     "name": "stdout",
     "output_type": "stream",
     "text": [
      "8000,00\n"
     ]
    }
   ],
   "source": [
    "# Récupérons la colonne voulue\n",
    "value_0 = row_0[\"Valeur fonciere\"]\n",
    "print(value_0)"
   ]
  },
  {
   "cell_type": "code",
   "execution_count": 38,
   "metadata": {},
   "outputs": [
    {
     "name": "stdout",
     "output_type": "stream",
     "text": [
      "75000,00\n"
     ]
    }
   ],
   "source": [
    "# Faire de même pour la ligne 1\n",
    "row_1 = df_light_columns.iloc[1]\n",
    "\n",
    "value_1 = row_1[\"Valeur fonciere\"]\n",
    "\n",
    "print(value_1)"
   ]
  },
  {
   "cell_type": "code",
   "execution_count": 39,
   "metadata": {},
   "outputs": [
    {
     "name": "stdout",
     "output_type": "stream",
     "text": [
      "8000,0075000,00\n"
     ]
    }
   ],
   "source": [
    "# Additionnons les deux\n",
    "print(value_0 + value_1)"
   ]
  },
  {
   "cell_type": "code",
   "execution_count": 40,
   "metadata": {},
   "outputs": [
    {
     "name": "stdout",
     "output_type": "stream",
     "text": [
      "C'est une somme et non une addition\n"
     ]
    }
   ],
   "source": [
    "# Qu'observez-vous ?\n",
    "print(\"C'est une somme et non une addition\")"
   ]
  },
  {
   "cell_type": "code",
   "execution_count": 41,
   "metadata": {},
   "outputs": [
    {
     "name": "stdout",
     "output_type": "stream",
     "text": [
      "<class 'str'>\n"
     ]
    }
   ],
   "source": [
    "# Affichons le type de la première valeur\n",
    "type_0 = type(value_0)\n",
    "print(type_0)"
   ]
  },
  {
   "cell_type": "code",
   "execution_count": 42,
   "metadata": {},
   "outputs": [
    {
     "ename": "ValueError",
     "evalue": "Cannot convert float NaN to integer",
     "output_type": "error",
     "traceback": [
      "\u001b[0;31m---------------------------------------------------------------------------\u001b[0m",
      "\u001b[0;31mValueError\u001b[0m                                Traceback (most recent call last)",
      "\u001b[0;32m<ipython-input-42-c93dbdf68564>\u001b[0m in \u001b[0;36m<module>\u001b[0;34m\u001b[0m\n\u001b[1;32m      1\u001b[0m \u001b[0;31m# Il faut changer le type de cette colonne : de string à un entier\u001b[0m\u001b[0;34m\u001b[0m\u001b[0;34m\u001b[0m\u001b[0;34m\u001b[0m\u001b[0m\n\u001b[1;32m      2\u001b[0m \u001b[0;34m\u001b[0m\u001b[0m\n\u001b[0;32m----> 3\u001b[0;31m \u001b[0mdf_light_columns\u001b[0m\u001b[0;34m[\u001b[0m\u001b[0;34m'Valeur fonciere'\u001b[0m\u001b[0;34m]\u001b[0m \u001b[0;34m=\u001b[0m \u001b[0mdf_light_columns\u001b[0m\u001b[0;34m[\u001b[0m\u001b[0;34m\"Valeur fonciere\"\u001b[0m\u001b[0;34m]\u001b[0m\u001b[0;34m.\u001b[0m\u001b[0mastype\u001b[0m\u001b[0;34m(\u001b[0m\u001b[0;34m'uint8'\u001b[0m\u001b[0;34m)\u001b[0m\u001b[0;34m\u001b[0m\u001b[0;34m\u001b[0m\u001b[0m\n\u001b[0m",
      "\u001b[0;32m~/.local/lib/python3.8/site-packages/pandas/core/generic.py\u001b[0m in \u001b[0;36mastype\u001b[0;34m(self, dtype, copy, errors)\u001b[0m\n\u001b[1;32m   5544\u001b[0m         \u001b[0;32melse\u001b[0m\u001b[0;34m:\u001b[0m\u001b[0;34m\u001b[0m\u001b[0;34m\u001b[0m\u001b[0m\n\u001b[1;32m   5545\u001b[0m             \u001b[0;31m# else, only a single dtype is given\u001b[0m\u001b[0;34m\u001b[0m\u001b[0;34m\u001b[0m\u001b[0;34m\u001b[0m\u001b[0m\n\u001b[0;32m-> 5546\u001b[0;31m             \u001b[0mnew_data\u001b[0m \u001b[0;34m=\u001b[0m \u001b[0mself\u001b[0m\u001b[0;34m.\u001b[0m\u001b[0m_mgr\u001b[0m\u001b[0;34m.\u001b[0m\u001b[0mastype\u001b[0m\u001b[0;34m(\u001b[0m\u001b[0mdtype\u001b[0m\u001b[0;34m=\u001b[0m\u001b[0mdtype\u001b[0m\u001b[0;34m,\u001b[0m \u001b[0mcopy\u001b[0m\u001b[0;34m=\u001b[0m\u001b[0mcopy\u001b[0m\u001b[0;34m,\u001b[0m \u001b[0merrors\u001b[0m\u001b[0;34m=\u001b[0m\u001b[0merrors\u001b[0m\u001b[0;34m,\u001b[0m\u001b[0;34m)\u001b[0m\u001b[0;34m\u001b[0m\u001b[0;34m\u001b[0m\u001b[0m\n\u001b[0m\u001b[1;32m   5547\u001b[0m             \u001b[0;32mreturn\u001b[0m \u001b[0mself\u001b[0m\u001b[0;34m.\u001b[0m\u001b[0m_constructor\u001b[0m\u001b[0;34m(\u001b[0m\u001b[0mnew_data\u001b[0m\u001b[0;34m)\u001b[0m\u001b[0;34m.\u001b[0m\u001b[0m__finalize__\u001b[0m\u001b[0;34m(\u001b[0m\u001b[0mself\u001b[0m\u001b[0;34m,\u001b[0m \u001b[0mmethod\u001b[0m\u001b[0;34m=\u001b[0m\u001b[0;34m\"astype\"\u001b[0m\u001b[0;34m)\u001b[0m\u001b[0;34m\u001b[0m\u001b[0;34m\u001b[0m\u001b[0m\n\u001b[1;32m   5548\u001b[0m \u001b[0;34m\u001b[0m\u001b[0m\n",
      "\u001b[0;32m~/.local/lib/python3.8/site-packages/pandas/core/internals/managers.py\u001b[0m in \u001b[0;36mastype\u001b[0;34m(self, dtype, copy, errors)\u001b[0m\n\u001b[1;32m    593\u001b[0m         \u001b[0mself\u001b[0m\u001b[0;34m,\u001b[0m \u001b[0mdtype\u001b[0m\u001b[0;34m,\u001b[0m \u001b[0mcopy\u001b[0m\u001b[0;34m:\u001b[0m \u001b[0mbool\u001b[0m \u001b[0;34m=\u001b[0m \u001b[0;32mFalse\u001b[0m\u001b[0;34m,\u001b[0m \u001b[0merrors\u001b[0m\u001b[0;34m:\u001b[0m \u001b[0mstr\u001b[0m \u001b[0;34m=\u001b[0m \u001b[0;34m\"raise\"\u001b[0m\u001b[0;34m\u001b[0m\u001b[0;34m\u001b[0m\u001b[0m\n\u001b[1;32m    594\u001b[0m     ) -> \"BlockManager\":\n\u001b[0;32m--> 595\u001b[0;31m         \u001b[0;32mreturn\u001b[0m \u001b[0mself\u001b[0m\u001b[0;34m.\u001b[0m\u001b[0mapply\u001b[0m\u001b[0;34m(\u001b[0m\u001b[0;34m\"astype\"\u001b[0m\u001b[0;34m,\u001b[0m \u001b[0mdtype\u001b[0m\u001b[0;34m=\u001b[0m\u001b[0mdtype\u001b[0m\u001b[0;34m,\u001b[0m \u001b[0mcopy\u001b[0m\u001b[0;34m=\u001b[0m\u001b[0mcopy\u001b[0m\u001b[0;34m,\u001b[0m \u001b[0merrors\u001b[0m\u001b[0;34m=\u001b[0m\u001b[0merrors\u001b[0m\u001b[0;34m)\u001b[0m\u001b[0;34m\u001b[0m\u001b[0;34m\u001b[0m\u001b[0m\n\u001b[0m\u001b[1;32m    596\u001b[0m \u001b[0;34m\u001b[0m\u001b[0m\n\u001b[1;32m    597\u001b[0m     def convert(\n",
      "\u001b[0;32m~/.local/lib/python3.8/site-packages/pandas/core/internals/managers.py\u001b[0m in \u001b[0;36mapply\u001b[0;34m(self, f, align_keys, **kwargs)\u001b[0m\n\u001b[1;32m    404\u001b[0m                 \u001b[0mapplied\u001b[0m \u001b[0;34m=\u001b[0m \u001b[0mb\u001b[0m\u001b[0;34m.\u001b[0m\u001b[0mapply\u001b[0m\u001b[0;34m(\u001b[0m\u001b[0mf\u001b[0m\u001b[0;34m,\u001b[0m \u001b[0;34m**\u001b[0m\u001b[0mkwargs\u001b[0m\u001b[0;34m)\u001b[0m\u001b[0;34m\u001b[0m\u001b[0;34m\u001b[0m\u001b[0m\n\u001b[1;32m    405\u001b[0m             \u001b[0;32melse\u001b[0m\u001b[0;34m:\u001b[0m\u001b[0;34m\u001b[0m\u001b[0;34m\u001b[0m\u001b[0m\n\u001b[0;32m--> 406\u001b[0;31m                 \u001b[0mapplied\u001b[0m \u001b[0;34m=\u001b[0m \u001b[0mgetattr\u001b[0m\u001b[0;34m(\u001b[0m\u001b[0mb\u001b[0m\u001b[0;34m,\u001b[0m \u001b[0mf\u001b[0m\u001b[0;34m)\u001b[0m\u001b[0;34m(\u001b[0m\u001b[0;34m**\u001b[0m\u001b[0mkwargs\u001b[0m\u001b[0;34m)\u001b[0m\u001b[0;34m\u001b[0m\u001b[0;34m\u001b[0m\u001b[0m\n\u001b[0m\u001b[1;32m    407\u001b[0m             \u001b[0mresult_blocks\u001b[0m \u001b[0;34m=\u001b[0m \u001b[0m_extend_blocks\u001b[0m\u001b[0;34m(\u001b[0m\u001b[0mapplied\u001b[0m\u001b[0;34m,\u001b[0m \u001b[0mresult_blocks\u001b[0m\u001b[0;34m)\u001b[0m\u001b[0;34m\u001b[0m\u001b[0;34m\u001b[0m\u001b[0m\n\u001b[1;32m    408\u001b[0m \u001b[0;34m\u001b[0m\u001b[0m\n",
      "\u001b[0;32m~/.local/lib/python3.8/site-packages/pandas/core/internals/blocks.py\u001b[0m in \u001b[0;36mastype\u001b[0;34m(self, dtype, copy, errors)\u001b[0m\n\u001b[1;32m    568\u001b[0m         \u001b[0;32mif\u001b[0m \u001b[0mself\u001b[0m\u001b[0;34m.\u001b[0m\u001b[0mis_extension\u001b[0m\u001b[0;34m:\u001b[0m\u001b[0;34m\u001b[0m\u001b[0;34m\u001b[0m\u001b[0m\n\u001b[1;32m    569\u001b[0m             \u001b[0;32mtry\u001b[0m\u001b[0;34m:\u001b[0m\u001b[0;34m\u001b[0m\u001b[0;34m\u001b[0m\u001b[0m\n\u001b[0;32m--> 570\u001b[0;31m                 \u001b[0mvalues\u001b[0m \u001b[0;34m=\u001b[0m \u001b[0mself\u001b[0m\u001b[0;34m.\u001b[0m\u001b[0mvalues\u001b[0m\u001b[0;34m.\u001b[0m\u001b[0mastype\u001b[0m\u001b[0;34m(\u001b[0m\u001b[0mdtype\u001b[0m\u001b[0;34m)\u001b[0m\u001b[0;34m\u001b[0m\u001b[0;34m\u001b[0m\u001b[0m\n\u001b[0m\u001b[1;32m    571\u001b[0m             \u001b[0;32mexcept\u001b[0m \u001b[0;34m(\u001b[0m\u001b[0mValueError\u001b[0m\u001b[0;34m,\u001b[0m \u001b[0mTypeError\u001b[0m\u001b[0;34m)\u001b[0m\u001b[0;34m:\u001b[0m\u001b[0;34m\u001b[0m\u001b[0;34m\u001b[0m\u001b[0m\n\u001b[1;32m    572\u001b[0m                 \u001b[0;32mif\u001b[0m \u001b[0merrors\u001b[0m \u001b[0;34m==\u001b[0m \u001b[0;34m\"ignore\"\u001b[0m\u001b[0;34m:\u001b[0m\u001b[0;34m\u001b[0m\u001b[0;34m\u001b[0m\u001b[0m\n",
      "\u001b[0;32m~/.local/lib/python3.8/site-packages/pandas/core/arrays/categorical.py\u001b[0m in \u001b[0;36mastype\u001b[0;34m(self, dtype, copy)\u001b[0m\n\u001b[1;32m    475\u001b[0m             \u001b[0;32mreturn\u001b[0m \u001b[0marray\u001b[0m\u001b[0;34m(\u001b[0m\u001b[0mself\u001b[0m\u001b[0;34m,\u001b[0m \u001b[0mdtype\u001b[0m\u001b[0;34m=\u001b[0m\u001b[0mdtype\u001b[0m\u001b[0;34m,\u001b[0m \u001b[0mcopy\u001b[0m\u001b[0;34m=\u001b[0m\u001b[0mcopy\u001b[0m\u001b[0;34m)\u001b[0m\u001b[0;34m\u001b[0m\u001b[0;34m\u001b[0m\u001b[0m\n\u001b[1;32m    476\u001b[0m         \u001b[0;32mif\u001b[0m \u001b[0mis_integer_dtype\u001b[0m\u001b[0;34m(\u001b[0m\u001b[0mdtype\u001b[0m\u001b[0;34m)\u001b[0m \u001b[0;32mand\u001b[0m \u001b[0mself\u001b[0m\u001b[0;34m.\u001b[0m\u001b[0misna\u001b[0m\u001b[0;34m(\u001b[0m\u001b[0;34m)\u001b[0m\u001b[0;34m.\u001b[0m\u001b[0many\u001b[0m\u001b[0;34m(\u001b[0m\u001b[0;34m)\u001b[0m\u001b[0;34m:\u001b[0m\u001b[0;34m\u001b[0m\u001b[0;34m\u001b[0m\u001b[0m\n\u001b[0;32m--> 477\u001b[0;31m             \u001b[0;32mraise\u001b[0m \u001b[0mValueError\u001b[0m\u001b[0;34m(\u001b[0m\u001b[0;34m\"Cannot convert float NaN to integer\"\u001b[0m\u001b[0;34m)\u001b[0m\u001b[0;34m\u001b[0m\u001b[0;34m\u001b[0m\u001b[0m\n\u001b[0m\u001b[1;32m    478\u001b[0m         \u001b[0;32mreturn\u001b[0m \u001b[0mnp\u001b[0m\u001b[0;34m.\u001b[0m\u001b[0marray\u001b[0m\u001b[0;34m(\u001b[0m\u001b[0mself\u001b[0m\u001b[0;34m,\u001b[0m \u001b[0mdtype\u001b[0m\u001b[0;34m=\u001b[0m\u001b[0mdtype\u001b[0m\u001b[0;34m,\u001b[0m \u001b[0mcopy\u001b[0m\u001b[0;34m=\u001b[0m\u001b[0mcopy\u001b[0m\u001b[0;34m)\u001b[0m\u001b[0;34m\u001b[0m\u001b[0;34m\u001b[0m\u001b[0m\n\u001b[1;32m    479\u001b[0m \u001b[0;34m\u001b[0m\u001b[0m\n",
      "\u001b[0;31mValueError\u001b[0m: Cannot convert float NaN to integer"
     ]
    }
   ],
   "source": [
    "# Il faut changer le type de cette colonne : de string à un entier\n",
    "\n",
    "df_light_columns['Valeur fonciere'] = df_light_columns[\"Valeur fonciere\"].astype('uint8')\n"
   ]
  },
  {
   "cell_type": "code",
   "execution_count": 43,
   "metadata": {},
   "outputs": [
    {
     "name": "stderr",
     "output_type": "stream",
     "text": [
      "<ipython-input-43-e30d6516c740>:5: SettingWithCopyWarning: \n",
      "A value is trying to be set on a copy of a slice from a DataFrame.\n",
      "Try using .loc[row_indexer,col_indexer] = value instead\n",
      "\n",
      "See the caveats in the documentation: https://pandas.pydata.org/pandas-docs/stable/user_guide/indexing.html#returning-a-view-versus-a-copy\n",
      "  df_light_columns['Valeur fonciere'] = df_light_columns[\"Valeur fonciere\"].str.replace(\",\",\".\")\n"
     ]
    }
   ],
   "source": [
    "# Une erreur a dû se déclencher.\n",
    "\n",
    "# Il faut au préalable changer les virgules par des points\n",
    "\n",
    "df_light_columns['Valeur fonciere'] = df_light_columns[\"Valeur fonciere\"].str.replace(\",\",\".\")\n"
   ]
  },
  {
   "cell_type": "code",
   "execution_count": 44,
   "metadata": {},
   "outputs": [
    {
     "data": {
      "text/html": [
       "<div>\n",
       "<style scoped>\n",
       "    .dataframe tbody tr th:only-of-type {\n",
       "        vertical-align: middle;\n",
       "    }\n",
       "\n",
       "    .dataframe tbody tr th {\n",
       "        vertical-align: top;\n",
       "    }\n",
       "\n",
       "    .dataframe thead th {\n",
       "        text-align: right;\n",
       "    }\n",
       "</style>\n",
       "<table border=\"1\" class=\"dataframe\">\n",
       "  <thead>\n",
       "    <tr style=\"text-align: right;\">\n",
       "      <th></th>\n",
       "      <th>Code postal</th>\n",
       "      <th>Code departement</th>\n",
       "      <th>Valeur fonciere</th>\n",
       "      <th>Type local</th>\n",
       "      <th>Surface reelle bati</th>\n",
       "      <th>Nombre pieces principales</th>\n",
       "      <th>Nature mutation</th>\n",
       "    </tr>\n",
       "  </thead>\n",
       "  <tbody>\n",
       "    <tr>\n",
       "      <th>0</th>\n",
       "      <td>1250.0</td>\n",
       "      <td>01</td>\n",
       "      <td>8000.00</td>\n",
       "      <td>NaN</td>\n",
       "      <td>NaN</td>\n",
       "      <td>NaN</td>\n",
       "      <td>Vente</td>\n",
       "    </tr>\n",
       "    <tr>\n",
       "      <th>1</th>\n",
       "      <td>1960.0</td>\n",
       "      <td>01</td>\n",
       "      <td>75000.00</td>\n",
       "      <td>NaN</td>\n",
       "      <td>NaN</td>\n",
       "      <td>NaN</td>\n",
       "      <td>Vente</td>\n",
       "    </tr>\n",
       "    <tr>\n",
       "      <th>2</th>\n",
       "      <td>1340.0</td>\n",
       "      <td>01</td>\n",
       "      <td>89000.00</td>\n",
       "      <td>NaN</td>\n",
       "      <td>NaN</td>\n",
       "      <td>NaN</td>\n",
       "      <td>Vente</td>\n",
       "    </tr>\n",
       "    <tr>\n",
       "      <th>3</th>\n",
       "      <td>1340.0</td>\n",
       "      <td>01</td>\n",
       "      <td>89000.00</td>\n",
       "      <td>NaN</td>\n",
       "      <td>NaN</td>\n",
       "      <td>NaN</td>\n",
       "      <td>Vente</td>\n",
       "    </tr>\n",
       "    <tr>\n",
       "      <th>4</th>\n",
       "      <td>1000.0</td>\n",
       "      <td>01</td>\n",
       "      <td>209950.00</td>\n",
       "      <td>Maison</td>\n",
       "      <td>78.0</td>\n",
       "      <td>5.0</td>\n",
       "      <td>Vente</td>\n",
       "    </tr>\n",
       "  </tbody>\n",
       "</table>\n",
       "</div>"
      ],
      "text/plain": [
       "   Code postal Code departement Valeur fonciere Type local  \\\n",
       "0       1250.0               01         8000.00        NaN   \n",
       "1       1960.0               01        75000.00        NaN   \n",
       "2       1340.0               01        89000.00        NaN   \n",
       "3       1340.0               01        89000.00        NaN   \n",
       "4       1000.0               01       209950.00     Maison   \n",
       "\n",
       "   Surface reelle bati  Nombre pieces principales Nature mutation  \n",
       "0                  NaN                        NaN           Vente  \n",
       "1                  NaN                        NaN           Vente  \n",
       "2                  NaN                        NaN           Vente  \n",
       "3                  NaN                        NaN           Vente  \n",
       "4                 78.0                        5.0           Vente  "
      ]
     },
     "execution_count": 44,
     "metadata": {},
     "output_type": "execute_result"
    }
   ],
   "source": [
    "# Vérifions que le changement a bien eu lieu\n",
    "df_light_columns.head()"
   ]
  },
  {
   "cell_type": "code",
   "execution_count": 45,
   "metadata": {},
   "outputs": [
    {
     "name": "stderr",
     "output_type": "stream",
     "text": [
      "<ipython-input-45-8dd06910e7d3>:2: SettingWithCopyWarning: \n",
      "A value is trying to be set on a copy of a slice from a DataFrame.\n",
      "Try using .loc[row_indexer,col_indexer] = value instead\n",
      "\n",
      "See the caveats in the documentation: https://pandas.pydata.org/pandas-docs/stable/user_guide/indexing.html#returning-a-view-versus-a-copy\n",
      "  df_light_columns['Valeur fonciere'] = df_light_columns[\"Valeur fonciere\"].astype('float64')\n"
     ]
    }
   ],
   "source": [
    "# Recommençons le changement de type\n",
    "df_light_columns['Valeur fonciere'] = df_light_columns[\"Valeur fonciere\"].astype('float64')\n"
   ]
  },
  {
   "cell_type": "code",
   "execution_count": 46,
   "metadata": {},
   "outputs": [
    {
     "data": {
      "text/html": [
       "<div>\n",
       "<style scoped>\n",
       "    .dataframe tbody tr th:only-of-type {\n",
       "        vertical-align: middle;\n",
       "    }\n",
       "\n",
       "    .dataframe tbody tr th {\n",
       "        vertical-align: top;\n",
       "    }\n",
       "\n",
       "    .dataframe thead th {\n",
       "        text-align: right;\n",
       "    }\n",
       "</style>\n",
       "<table border=\"1\" class=\"dataframe\">\n",
       "  <thead>\n",
       "    <tr style=\"text-align: right;\">\n",
       "      <th></th>\n",
       "      <th>Code postal</th>\n",
       "      <th>Code departement</th>\n",
       "      <th>Valeur fonciere</th>\n",
       "      <th>Type local</th>\n",
       "      <th>Surface reelle bati</th>\n",
       "      <th>Nombre pieces principales</th>\n",
       "      <th>Nature mutation</th>\n",
       "    </tr>\n",
       "  </thead>\n",
       "  <tbody>\n",
       "    <tr>\n",
       "      <th>0</th>\n",
       "      <td>1250.0</td>\n",
       "      <td>01</td>\n",
       "      <td>8000.0</td>\n",
       "      <td>NaN</td>\n",
       "      <td>NaN</td>\n",
       "      <td>NaN</td>\n",
       "      <td>Vente</td>\n",
       "    </tr>\n",
       "    <tr>\n",
       "      <th>1</th>\n",
       "      <td>1960.0</td>\n",
       "      <td>01</td>\n",
       "      <td>75000.0</td>\n",
       "      <td>NaN</td>\n",
       "      <td>NaN</td>\n",
       "      <td>NaN</td>\n",
       "      <td>Vente</td>\n",
       "    </tr>\n",
       "    <tr>\n",
       "      <th>2</th>\n",
       "      <td>1340.0</td>\n",
       "      <td>01</td>\n",
       "      <td>89000.0</td>\n",
       "      <td>NaN</td>\n",
       "      <td>NaN</td>\n",
       "      <td>NaN</td>\n",
       "      <td>Vente</td>\n",
       "    </tr>\n",
       "    <tr>\n",
       "      <th>3</th>\n",
       "      <td>1340.0</td>\n",
       "      <td>01</td>\n",
       "      <td>89000.0</td>\n",
       "      <td>NaN</td>\n",
       "      <td>NaN</td>\n",
       "      <td>NaN</td>\n",
       "      <td>Vente</td>\n",
       "    </tr>\n",
       "    <tr>\n",
       "      <th>4</th>\n",
       "      <td>1000.0</td>\n",
       "      <td>01</td>\n",
       "      <td>209950.0</td>\n",
       "      <td>Maison</td>\n",
       "      <td>78.0</td>\n",
       "      <td>5.0</td>\n",
       "      <td>Vente</td>\n",
       "    </tr>\n",
       "  </tbody>\n",
       "</table>\n",
       "</div>"
      ],
      "text/plain": [
       "   Code postal Code departement  Valeur fonciere Type local  \\\n",
       "0       1250.0               01           8000.0        NaN   \n",
       "1       1960.0               01          75000.0        NaN   \n",
       "2       1340.0               01          89000.0        NaN   \n",
       "3       1340.0               01          89000.0        NaN   \n",
       "4       1000.0               01         209950.0     Maison   \n",
       "\n",
       "   Surface reelle bati  Nombre pieces principales Nature mutation  \n",
       "0                  NaN                        NaN           Vente  \n",
       "1                  NaN                        NaN           Vente  \n",
       "2                  NaN                        NaN           Vente  \n",
       "3                  NaN                        NaN           Vente  \n",
       "4                 78.0                        5.0           Vente  "
      ]
     },
     "execution_count": 46,
     "metadata": {},
     "output_type": "execute_result"
    }
   ],
   "source": [
    "# Vérifions que le changement a bien eu lieu\n",
    "df_light_columns.head()"
   ]
  },
  {
   "cell_type": "code",
   "execution_count": 47,
   "metadata": {},
   "outputs": [
    {
     "name": "stdout",
     "output_type": "stream",
     "text": [
      "<class 'pandas.core.frame.DataFrame'>\n",
      "RangeIndex: 827105 entries, 0 to 827104\n",
      "Data columns (total 7 columns):\n",
      " #   Column                     Non-Null Count   Dtype   \n",
      "---  ------                     --------------   -----   \n",
      " 0   Code postal                817713 non-null  float64 \n",
      " 1   Code departement           827105 non-null  category\n",
      " 2   Valeur fonciere            817376 non-null  float64 \n",
      " 3   Type local                 463460 non-null  object  \n",
      " 4   Surface reelle bati        462976 non-null  float64 \n",
      " 5   Nombre pieces principales  462976 non-null  float64 \n",
      " 6   Nature mutation            827105 non-null  category\n",
      "dtypes: category(2), float64(4), object(1)\n",
      "memory usage: 33.1+ MB\n"
     ]
    }
   ],
   "source": [
    "# Vérifions que le changement de type a bien eu lieu\n",
    "df_light_columns.info(verbose=True)"
   ]
  },
  {
   "cell_type": "code",
   "execution_count": 48,
   "metadata": {},
   "outputs": [
    {
     "ename": "ValueError",
     "evalue": "Cannot convert non-finite values (NA or inf) to integer",
     "output_type": "error",
     "traceback": [
      "\u001b[0;31m---------------------------------------------------------------------------\u001b[0m",
      "\u001b[0;31mValueError\u001b[0m                                Traceback (most recent call last)",
      "\u001b[0;32m<ipython-input-48-f8f6959e536a>\u001b[0m in \u001b[0;36m<module>\u001b[0;34m\u001b[0m\n\u001b[1;32m      1\u001b[0m \u001b[0;31m# Nous allons arrondir pour passer du type float à int\u001b[0m\u001b[0;34m\u001b[0m\u001b[0;34m\u001b[0m\u001b[0;34m\u001b[0m\u001b[0m\n\u001b[0;32m----> 2\u001b[0;31m \u001b[0mdf_light_columns\u001b[0m\u001b[0;34m[\u001b[0m\u001b[0;34m'Valeur fonciere'\u001b[0m\u001b[0;34m]\u001b[0m \u001b[0;34m=\u001b[0m \u001b[0mdf_light_columns\u001b[0m\u001b[0;34m[\u001b[0m\u001b[0;34m\"Valeur fonciere\"\u001b[0m\u001b[0;34m]\u001b[0m\u001b[0;34m.\u001b[0m\u001b[0mastype\u001b[0m\u001b[0;34m(\u001b[0m\u001b[0;34m'uint64'\u001b[0m\u001b[0;34m)\u001b[0m\u001b[0;34m\u001b[0m\u001b[0;34m\u001b[0m\u001b[0m\n\u001b[0m",
      "\u001b[0;32m~/.local/lib/python3.8/site-packages/pandas/core/generic.py\u001b[0m in \u001b[0;36mastype\u001b[0;34m(self, dtype, copy, errors)\u001b[0m\n\u001b[1;32m   5544\u001b[0m         \u001b[0;32melse\u001b[0m\u001b[0;34m:\u001b[0m\u001b[0;34m\u001b[0m\u001b[0;34m\u001b[0m\u001b[0m\n\u001b[1;32m   5545\u001b[0m             \u001b[0;31m# else, only a single dtype is given\u001b[0m\u001b[0;34m\u001b[0m\u001b[0;34m\u001b[0m\u001b[0;34m\u001b[0m\u001b[0m\n\u001b[0;32m-> 5546\u001b[0;31m             \u001b[0mnew_data\u001b[0m \u001b[0;34m=\u001b[0m \u001b[0mself\u001b[0m\u001b[0;34m.\u001b[0m\u001b[0m_mgr\u001b[0m\u001b[0;34m.\u001b[0m\u001b[0mastype\u001b[0m\u001b[0;34m(\u001b[0m\u001b[0mdtype\u001b[0m\u001b[0;34m=\u001b[0m\u001b[0mdtype\u001b[0m\u001b[0;34m,\u001b[0m \u001b[0mcopy\u001b[0m\u001b[0;34m=\u001b[0m\u001b[0mcopy\u001b[0m\u001b[0;34m,\u001b[0m \u001b[0merrors\u001b[0m\u001b[0;34m=\u001b[0m\u001b[0merrors\u001b[0m\u001b[0;34m,\u001b[0m\u001b[0;34m)\u001b[0m\u001b[0;34m\u001b[0m\u001b[0;34m\u001b[0m\u001b[0m\n\u001b[0m\u001b[1;32m   5547\u001b[0m             \u001b[0;32mreturn\u001b[0m \u001b[0mself\u001b[0m\u001b[0;34m.\u001b[0m\u001b[0m_constructor\u001b[0m\u001b[0;34m(\u001b[0m\u001b[0mnew_data\u001b[0m\u001b[0;34m)\u001b[0m\u001b[0;34m.\u001b[0m\u001b[0m__finalize__\u001b[0m\u001b[0;34m(\u001b[0m\u001b[0mself\u001b[0m\u001b[0;34m,\u001b[0m \u001b[0mmethod\u001b[0m\u001b[0;34m=\u001b[0m\u001b[0;34m\"astype\"\u001b[0m\u001b[0;34m)\u001b[0m\u001b[0;34m\u001b[0m\u001b[0;34m\u001b[0m\u001b[0m\n\u001b[1;32m   5548\u001b[0m \u001b[0;34m\u001b[0m\u001b[0m\n",
      "\u001b[0;32m~/.local/lib/python3.8/site-packages/pandas/core/internals/managers.py\u001b[0m in \u001b[0;36mastype\u001b[0;34m(self, dtype, copy, errors)\u001b[0m\n\u001b[1;32m    593\u001b[0m         \u001b[0mself\u001b[0m\u001b[0;34m,\u001b[0m \u001b[0mdtype\u001b[0m\u001b[0;34m,\u001b[0m \u001b[0mcopy\u001b[0m\u001b[0;34m:\u001b[0m \u001b[0mbool\u001b[0m \u001b[0;34m=\u001b[0m \u001b[0;32mFalse\u001b[0m\u001b[0;34m,\u001b[0m \u001b[0merrors\u001b[0m\u001b[0;34m:\u001b[0m \u001b[0mstr\u001b[0m \u001b[0;34m=\u001b[0m \u001b[0;34m\"raise\"\u001b[0m\u001b[0;34m\u001b[0m\u001b[0;34m\u001b[0m\u001b[0m\n\u001b[1;32m    594\u001b[0m     ) -> \"BlockManager\":\n\u001b[0;32m--> 595\u001b[0;31m         \u001b[0;32mreturn\u001b[0m \u001b[0mself\u001b[0m\u001b[0;34m.\u001b[0m\u001b[0mapply\u001b[0m\u001b[0;34m(\u001b[0m\u001b[0;34m\"astype\"\u001b[0m\u001b[0;34m,\u001b[0m \u001b[0mdtype\u001b[0m\u001b[0;34m=\u001b[0m\u001b[0mdtype\u001b[0m\u001b[0;34m,\u001b[0m \u001b[0mcopy\u001b[0m\u001b[0;34m=\u001b[0m\u001b[0mcopy\u001b[0m\u001b[0;34m,\u001b[0m \u001b[0merrors\u001b[0m\u001b[0;34m=\u001b[0m\u001b[0merrors\u001b[0m\u001b[0;34m)\u001b[0m\u001b[0;34m\u001b[0m\u001b[0;34m\u001b[0m\u001b[0m\n\u001b[0m\u001b[1;32m    596\u001b[0m \u001b[0;34m\u001b[0m\u001b[0m\n\u001b[1;32m    597\u001b[0m     def convert(\n",
      "\u001b[0;32m~/.local/lib/python3.8/site-packages/pandas/core/internals/managers.py\u001b[0m in \u001b[0;36mapply\u001b[0;34m(self, f, align_keys, **kwargs)\u001b[0m\n\u001b[1;32m    404\u001b[0m                 \u001b[0mapplied\u001b[0m \u001b[0;34m=\u001b[0m \u001b[0mb\u001b[0m\u001b[0;34m.\u001b[0m\u001b[0mapply\u001b[0m\u001b[0;34m(\u001b[0m\u001b[0mf\u001b[0m\u001b[0;34m,\u001b[0m \u001b[0;34m**\u001b[0m\u001b[0mkwargs\u001b[0m\u001b[0;34m)\u001b[0m\u001b[0;34m\u001b[0m\u001b[0;34m\u001b[0m\u001b[0m\n\u001b[1;32m    405\u001b[0m             \u001b[0;32melse\u001b[0m\u001b[0;34m:\u001b[0m\u001b[0;34m\u001b[0m\u001b[0;34m\u001b[0m\u001b[0m\n\u001b[0;32m--> 406\u001b[0;31m                 \u001b[0mapplied\u001b[0m \u001b[0;34m=\u001b[0m \u001b[0mgetattr\u001b[0m\u001b[0;34m(\u001b[0m\u001b[0mb\u001b[0m\u001b[0;34m,\u001b[0m \u001b[0mf\u001b[0m\u001b[0;34m)\u001b[0m\u001b[0;34m(\u001b[0m\u001b[0;34m**\u001b[0m\u001b[0mkwargs\u001b[0m\u001b[0;34m)\u001b[0m\u001b[0;34m\u001b[0m\u001b[0;34m\u001b[0m\u001b[0m\n\u001b[0m\u001b[1;32m    407\u001b[0m             \u001b[0mresult_blocks\u001b[0m \u001b[0;34m=\u001b[0m \u001b[0m_extend_blocks\u001b[0m\u001b[0;34m(\u001b[0m\u001b[0mapplied\u001b[0m\u001b[0;34m,\u001b[0m \u001b[0mresult_blocks\u001b[0m\u001b[0;34m)\u001b[0m\u001b[0;34m\u001b[0m\u001b[0;34m\u001b[0m\u001b[0m\n\u001b[1;32m    408\u001b[0m \u001b[0;34m\u001b[0m\u001b[0m\n",
      "\u001b[0;32m~/.local/lib/python3.8/site-packages/pandas/core/internals/blocks.py\u001b[0m in \u001b[0;36mastype\u001b[0;34m(self, dtype, copy, errors)\u001b[0m\n\u001b[1;32m    593\u001b[0m             \u001b[0mvals1d\u001b[0m \u001b[0;34m=\u001b[0m \u001b[0mvalues\u001b[0m\u001b[0;34m.\u001b[0m\u001b[0mravel\u001b[0m\u001b[0;34m(\u001b[0m\u001b[0;34m)\u001b[0m\u001b[0;34m\u001b[0m\u001b[0;34m\u001b[0m\u001b[0m\n\u001b[1;32m    594\u001b[0m             \u001b[0;32mtry\u001b[0m\u001b[0;34m:\u001b[0m\u001b[0;34m\u001b[0m\u001b[0;34m\u001b[0m\u001b[0m\n\u001b[0;32m--> 595\u001b[0;31m                 \u001b[0mvalues\u001b[0m \u001b[0;34m=\u001b[0m \u001b[0mastype_nansafe\u001b[0m\u001b[0;34m(\u001b[0m\u001b[0mvals1d\u001b[0m\u001b[0;34m,\u001b[0m \u001b[0mdtype\u001b[0m\u001b[0;34m,\u001b[0m \u001b[0mcopy\u001b[0m\u001b[0;34m=\u001b[0m\u001b[0;32mTrue\u001b[0m\u001b[0;34m)\u001b[0m\u001b[0;34m\u001b[0m\u001b[0;34m\u001b[0m\u001b[0m\n\u001b[0m\u001b[1;32m    596\u001b[0m             \u001b[0;32mexcept\u001b[0m \u001b[0;34m(\u001b[0m\u001b[0mValueError\u001b[0m\u001b[0;34m,\u001b[0m \u001b[0mTypeError\u001b[0m\u001b[0;34m)\u001b[0m\u001b[0;34m:\u001b[0m\u001b[0;34m\u001b[0m\u001b[0;34m\u001b[0m\u001b[0m\n\u001b[1;32m    597\u001b[0m                 \u001b[0;31m# e.g. astype_nansafe can fail on object-dtype of strings\u001b[0m\u001b[0;34m\u001b[0m\u001b[0;34m\u001b[0m\u001b[0;34m\u001b[0m\u001b[0m\n",
      "\u001b[0;32m~/.local/lib/python3.8/site-packages/pandas/core/dtypes/cast.py\u001b[0m in \u001b[0;36mastype_nansafe\u001b[0;34m(arr, dtype, copy, skipna)\u001b[0m\n\u001b[1;32m    966\u001b[0m \u001b[0;34m\u001b[0m\u001b[0m\n\u001b[1;32m    967\u001b[0m         \u001b[0;32mif\u001b[0m \u001b[0;32mnot\u001b[0m \u001b[0mnp\u001b[0m\u001b[0;34m.\u001b[0m\u001b[0misfinite\u001b[0m\u001b[0;34m(\u001b[0m\u001b[0marr\u001b[0m\u001b[0;34m)\u001b[0m\u001b[0;34m.\u001b[0m\u001b[0mall\u001b[0m\u001b[0;34m(\u001b[0m\u001b[0;34m)\u001b[0m\u001b[0;34m:\u001b[0m\u001b[0;34m\u001b[0m\u001b[0;34m\u001b[0m\u001b[0m\n\u001b[0;32m--> 968\u001b[0;31m             \u001b[0;32mraise\u001b[0m \u001b[0mValueError\u001b[0m\u001b[0;34m(\u001b[0m\u001b[0;34m\"Cannot convert non-finite values (NA or inf) to integer\"\u001b[0m\u001b[0;34m)\u001b[0m\u001b[0;34m\u001b[0m\u001b[0;34m\u001b[0m\u001b[0m\n\u001b[0m\u001b[1;32m    969\u001b[0m \u001b[0;34m\u001b[0m\u001b[0m\n\u001b[1;32m    970\u001b[0m     \u001b[0;32melif\u001b[0m \u001b[0mis_object_dtype\u001b[0m\u001b[0;34m(\u001b[0m\u001b[0marr\u001b[0m\u001b[0;34m)\u001b[0m\u001b[0;34m:\u001b[0m\u001b[0;34m\u001b[0m\u001b[0;34m\u001b[0m\u001b[0m\n",
      "\u001b[0;31mValueError\u001b[0m: Cannot convert non-finite values (NA or inf) to integer"
     ]
    }
   ],
   "source": [
    "# Nous allons arrondir pour passer du type float à int\n",
    "df_light_columns['Valeur fonciere'] = df_light_columns[\"Valeur fonciere\"].astype('uint64')\n"
   ]
  },
  {
   "cell_type": "code",
   "execution_count": 49,
   "metadata": {},
   "outputs": [
    {
     "name": "stdout",
     "output_type": "stream",
     "text": [
      "\u001b[34m Le programme ne peut pas convertir des valeurs non-définie en entier\n"
     ]
    }
   ],
   "source": [
    "# Une erreur a dû se déclencher.\n",
    "# Pour quelles raisons ?\n",
    "print('\\033[34m',\"Le programme ne peut pas convertir des valeurs non-définie en entier\")"
   ]
  },
  {
   "cell_type": "code",
   "execution_count": 50,
   "metadata": {},
   "outputs": [
    {
     "data": {
      "text/plain": [
       "0         False\n",
       "1         False\n",
       "2         False\n",
       "3         False\n",
       "4         False\n",
       "          ...  \n",
       "827100    False\n",
       "827101    False\n",
       "827102    False\n",
       "827103    False\n",
       "827104    False\n",
       "Name: Valeur fonciere, Length: 827105, dtype: bool"
      ]
     },
     "execution_count": 50,
     "metadata": {},
     "output_type": "execute_result"
    }
   ],
   "source": [
    "# Affichons les lignes qui ont un prix non-défini\n",
    "df_light_columns['Valeur fonciere'].isna()"
   ]
  },
  {
   "cell_type": "code",
   "execution_count": 51,
   "metadata": {},
   "outputs": [
    {
     "data": {
      "text/plain": [
       "9729"
      ]
     },
     "execution_count": 51,
     "metadata": {},
     "output_type": "execute_result"
    }
   ],
   "source": [
    "# Calculons le nombre de lignes qui ont un prix non-défini\n",
    "df_light_columns['Valeur fonciere'].isna().sum()"
   ]
  },
  {
   "cell_type": "code",
   "execution_count": 52,
   "metadata": {},
   "outputs": [
    {
     "data": {
      "text/plain": [
       "9729"
      ]
     },
     "execution_count": 52,
     "metadata": {},
     "output_type": "execute_result"
    }
   ],
   "source": [
    "# Combien de lignes ont un prix non-défini ?\n",
    "#df_light_columns = df_light_columns.dropna(subset=[\"Valeur fonciere\"])\n",
    "9729"
   ]
  },
  {
   "cell_type": "code",
   "execution_count": 53,
   "metadata": {},
   "outputs": [
    {
     "name": "stdout",
     "output_type": "stream",
     "text": [
      "<class 'pandas.core.frame.DataFrame'>\n",
      "RangeIndex: 827105 entries, 0 to 827104\n",
      "Data columns (total 7 columns):\n",
      " #   Column                     Non-Null Count   Dtype   \n",
      "---  ------                     --------------   -----   \n",
      " 0   Code postal                817713 non-null  float64 \n",
      " 1   Code departement           827105 non-null  category\n",
      " 2   Valeur fonciere            817376 non-null  float64 \n",
      " 3   Type local                 463460 non-null  object  \n",
      " 4   Surface reelle bati        462976 non-null  float64 \n",
      " 5   Nombre pieces principales  462976 non-null  float64 \n",
      " 6   Nature mutation            827105 non-null  category\n",
      "dtypes: category(2), float64(4), object(1)\n",
      "memory usage: 33.1+ MB\n"
     ]
    }
   ],
   "source": [
    "# Vérifions que le changement de type a bien eu lieu\n",
    "df_light_columns.info(verbose=True)"
   ]
  },
  {
   "cell_type": "code",
   "execution_count": 54,
   "metadata": {},
   "outputs": [
    {
     "data": {
      "text/plain": [
       "817376"
      ]
     },
     "execution_count": 54,
     "metadata": {},
     "output_type": "execute_result"
    }
   ],
   "source": [
    "# Combien de lignes comportent dorénavant le dataframe ?\n",
    "817376"
   ]
  },
  {
   "cell_type": "code",
   "execution_count": 55,
   "metadata": {},
   "outputs": [
    {
     "name": "stdout",
     "output_type": "stream",
     "text": [
      "\u001b[34m Il n'y en a plus\n"
     ]
    }
   ],
   "source": [
    "# Dans ce nouveau dataframe, quelles sont les autres colonnes ayant des valeurs nulles ?\n",
    "print('\\033[34m',\"Il n'y en a plus\")"
   ]
  },
  {
   "cell_type": "code",
   "execution_count": 56,
   "metadata": {},
   "outputs": [
    {
     "data": {
      "text/plain": [
       "Code postal                    9392\n",
       "Code departement                  0\n",
       "Valeur fonciere                9729\n",
       "Type local                   363645\n",
       "Surface reelle bati          364129\n",
       "Nombre pieces principales    364129\n",
       "Nature mutation                   0\n",
       "dtype: int64"
      ]
     },
     "execution_count": 56,
     "metadata": {},
     "output_type": "execute_result"
    }
   ],
   "source": [
    "# Afficher le nombre de lignes nulles par colonne\n",
    "df_light_columns.isna().sum()"
   ]
  },
  {
   "cell_type": "code",
   "execution_count": 57,
   "metadata": {},
   "outputs": [],
   "source": [
    "# Nous allons conserver uniquement les lignes complètes \n",
    "# et enlever n'importe quelle ligne ayant une valeur nulle\n",
    "\n",
    "df_light_columns = df_light_columns.dropna()"
   ]
  },
  {
   "cell_type": "code",
   "execution_count": 58,
   "metadata": {},
   "outputs": [
    {
     "name": "stdout",
     "output_type": "stream",
     "text": [
      "<class 'pandas.core.frame.DataFrame'>\n",
      "Int64Index: 461504 entries, 4 to 827104\n",
      "Data columns (total 7 columns):\n",
      " #   Column                     Non-Null Count   Dtype   \n",
      "---  ------                     --------------   -----   \n",
      " 0   Code postal                461504 non-null  float64 \n",
      " 1   Code departement           461504 non-null  category\n",
      " 2   Valeur fonciere            461504 non-null  float64 \n",
      " 3   Type local                 461504 non-null  object  \n",
      " 4   Surface reelle bati        461504 non-null  float64 \n",
      " 5   Nombre pieces principales  461504 non-null  float64 \n",
      " 6   Nature mutation            461504 non-null  category\n",
      "dtypes: category(2), float64(4), object(1)\n",
      "memory usage: 22.0+ MB\n"
     ]
    }
   ],
   "source": [
    "# Vérifions\n",
    "df_light_columns.info(verbose=True)"
   ]
  },
  {
   "cell_type": "code",
   "execution_count": 59,
   "metadata": {},
   "outputs": [
    {
     "data": {
      "text/plain": [
       "Code postal                  0\n",
       "Code departement             0\n",
       "Valeur fonciere              0\n",
       "Type local                   0\n",
       "Surface reelle bati          0\n",
       "Nombre pieces principales    0\n",
       "Nature mutation              0\n",
       "dtype: int64"
      ]
     },
     "execution_count": 59,
     "metadata": {},
     "output_type": "execute_result"
    }
   ],
   "source": [
    "# Afficher le nombre de lignes nulles par colonne\n",
    "df_light_columns.isna().sum()"
   ]
  },
  {
   "cell_type": "code",
   "execution_count": 60,
   "metadata": {},
   "outputs": [
    {
     "name": "stdout",
     "output_type": "stream",
     "text": [
      "\u001b[34m 56 %\n"
     ]
    }
   ],
   "source": [
    "# Combien de lignes avons-nous dorénavant ?\n",
    "461504\n",
    "\n",
    "# Quel pourcentage cela représente-il par rapport au dataset initial ?\n",
    "print('\\033[34m',round((461504/827105)*100),\"%\")\n"
   ]
  },
  {
   "cell_type": "code",
   "execution_count": 61,
   "metadata": {},
   "outputs": [],
   "source": [
    "# Revenons à nos moutons\n",
    "# Nous allons arrondir pour passer du type float à int\n",
    "df_light_columns['Valeur fonciere'] = df_light_columns[\"Valeur fonciere\"].astype('uint64')\n"
   ]
  },
  {
   "cell_type": "code",
   "execution_count": 62,
   "metadata": {},
   "outputs": [
    {
     "name": "stdout",
     "output_type": "stream",
     "text": [
      "<class 'pandas.core.frame.DataFrame'>\n",
      "Int64Index: 461504 entries, 4 to 827104\n",
      "Data columns (total 7 columns):\n",
      " #   Column                     Non-Null Count   Dtype   \n",
      "---  ------                     --------------   -----   \n",
      " 0   Code postal                461504 non-null  float64 \n",
      " 1   Code departement           461504 non-null  category\n",
      " 2   Valeur fonciere            461504 non-null  uint64  \n",
      " 3   Type local                 461504 non-null  object  \n",
      " 4   Surface reelle bati        461504 non-null  float64 \n",
      " 5   Nombre pieces principales  461504 non-null  float64 \n",
      " 6   Nature mutation            461504 non-null  category\n",
      "dtypes: category(2), float64(3), object(1), uint64(1)\n",
      "memory usage: 22.0+ MB\n"
     ]
    }
   ],
   "source": [
    "# Vérifions\n",
    "df_light_columns.info(verbose=True)"
   ]
  },
  {
   "cell_type": "code",
   "execution_count": 63,
   "metadata": {},
   "outputs": [
    {
     "data": {
      "text/html": [
       "<div>\n",
       "<style scoped>\n",
       "    .dataframe tbody tr th:only-of-type {\n",
       "        vertical-align: middle;\n",
       "    }\n",
       "\n",
       "    .dataframe tbody tr th {\n",
       "        vertical-align: top;\n",
       "    }\n",
       "\n",
       "    .dataframe thead th {\n",
       "        text-align: right;\n",
       "    }\n",
       "</style>\n",
       "<table border=\"1\" class=\"dataframe\">\n",
       "  <thead>\n",
       "    <tr style=\"text-align: right;\">\n",
       "      <th></th>\n",
       "      <th>Code postal</th>\n",
       "      <th>Code departement</th>\n",
       "      <th>Valeur fonciere</th>\n",
       "      <th>Type local</th>\n",
       "      <th>Surface reelle bati</th>\n",
       "      <th>Nombre pieces principales</th>\n",
       "      <th>Nature mutation</th>\n",
       "    </tr>\n",
       "  </thead>\n",
       "  <tbody>\n",
       "    <tr>\n",
       "      <th>4</th>\n",
       "      <td>1000.0</td>\n",
       "      <td>01</td>\n",
       "      <td>209950</td>\n",
       "      <td>Maison</td>\n",
       "      <td>78.0</td>\n",
       "      <td>5.0</td>\n",
       "      <td>Vente</td>\n",
       "    </tr>\n",
       "    <tr>\n",
       "      <th>9</th>\n",
       "      <td>1000.0</td>\n",
       "      <td>01</td>\n",
       "      <td>207170</td>\n",
       "      <td>Maison</td>\n",
       "      <td>106.0</td>\n",
       "      <td>4.0</td>\n",
       "      <td>Vente</td>\n",
       "    </tr>\n",
       "    <tr>\n",
       "      <th>11</th>\n",
       "      <td>1340.0</td>\n",
       "      <td>01</td>\n",
       "      <td>189000</td>\n",
       "      <td>Maison</td>\n",
       "      <td>90.0</td>\n",
       "      <td>4.0</td>\n",
       "      <td>Vente</td>\n",
       "    </tr>\n",
       "    <tr>\n",
       "      <th>12</th>\n",
       "      <td>1340.0</td>\n",
       "      <td>01</td>\n",
       "      <td>189000</td>\n",
       "      <td>Local industriel. commercial ou assimilé</td>\n",
       "      <td>0.0</td>\n",
       "      <td>0.0</td>\n",
       "      <td>Vente</td>\n",
       "    </tr>\n",
       "    <tr>\n",
       "      <th>18</th>\n",
       "      <td>1851.0</td>\n",
       "      <td>01</td>\n",
       "      <td>715350</td>\n",
       "      <td>Maison</td>\n",
       "      <td>400.0</td>\n",
       "      <td>7.0</td>\n",
       "      <td>Vente</td>\n",
       "    </tr>\n",
       "  </tbody>\n",
       "</table>\n",
       "</div>"
      ],
      "text/plain": [
       "    Code postal Code departement  Valeur fonciere  \\\n",
       "4        1000.0               01           209950   \n",
       "9        1000.0               01           207170   \n",
       "11       1340.0               01           189000   \n",
       "12       1340.0               01           189000   \n",
       "18       1851.0               01           715350   \n",
       "\n",
       "                                  Type local  Surface reelle bati  \\\n",
       "4                                     Maison                 78.0   \n",
       "9                                     Maison                106.0   \n",
       "11                                    Maison                 90.0   \n",
       "12  Local industriel. commercial ou assimilé                  0.0   \n",
       "18                                    Maison                400.0   \n",
       "\n",
       "    Nombre pieces principales Nature mutation  \n",
       "4                         5.0           Vente  \n",
       "9                         4.0           Vente  \n",
       "11                        4.0           Vente  \n",
       "12                        0.0           Vente  \n",
       "18                        7.0           Vente  "
      ]
     },
     "execution_count": 63,
     "metadata": {},
     "output_type": "execute_result"
    }
   ],
   "source": [
    "# Observons\n",
    "df_light_columns.head()"
   ]
  },
  {
   "cell_type": "code",
   "execution_count": 64,
   "metadata": {},
   "outputs": [
    {
     "name": "stdout",
     "output_type": "stream",
     "text": [
      "\u001b[34m Les résultats contenant une cellule vide (NaN) ne sont plus affichés\n",
      "\u001b[34m Nous pourrions n'afficher que certaines données\n"
     ]
    }
   ],
   "source": [
    "# Que remarquez-vous ?\n",
    "print('\\033[34m',\"Les résultats contenant une cellule vide (NaN) ne sont plus affichés\")\n",
    "\n",
    "# Quels traitements supplémentaires pouvons-nous effectuer ?\n",
    "print('\\033[34m',\"Nous pourrions n'afficher que certaines données\")\n"
   ]
  },
  {
   "cell_type": "code",
   "execution_count": 65,
   "metadata": {},
   "outputs": [
    {
     "data": {
      "text/plain": [
       "Vente                                 458571\n",
       "Vente en l'état futur d'achèvement      1805\n",
       "Echange                                  705\n",
       "Adjudication                             343\n",
       "Vente terrain à bâtir                     79\n",
       "Expropriation                              1\n",
       "Name: Nature mutation, dtype: int64"
      ]
     },
     "execution_count": 65,
     "metadata": {},
     "output_type": "execute_result"
    }
   ],
   "source": [
    "# Nous allons conserver uniquement les ventes\n",
    "# Affichons les différentes valeurs possibles\n",
    "df_light_columns[\"Nature mutation\"].value_counts()"
   ]
  },
  {
   "cell_type": "code",
   "execution_count": 66,
   "metadata": {},
   "outputs": [
    {
     "data": {
      "text/plain": [
       "6"
      ]
     },
     "execution_count": 66,
     "metadata": {},
     "output_type": "execute_result"
    }
   ],
   "source": [
    "# Combien de type de mutation existe-il ?\n",
    "6"
   ]
  },
  {
   "cell_type": "code",
   "execution_count": 67,
   "metadata": {},
   "outputs": [
    {
     "name": "stdout",
     "output_type": "stream",
     "text": [
      "4         True\n",
      "9         True\n",
      "11        True\n",
      "12        True\n",
      "18        True\n",
      "          ... \n",
      "827100    True\n",
      "827101    True\n",
      "827102    True\n",
      "827103    True\n",
      "827104    True\n",
      "Name: Nature mutation, Length: 461504, dtype: bool\n"
     ]
    }
   ],
   "source": [
    "# Nous allons créer un masque pour ne conserver que les ventes\n",
    "mask_vente = df_light_columns[\"Nature mutation\"] == \"Vente\"\n",
    "\n",
    "# Observons ce masque\n",
    "print(mask_vente)"
   ]
  },
  {
   "cell_type": "code",
   "execution_count": 68,
   "metadata": {},
   "outputs": [],
   "source": [
    "# Nous appliquons ce masque pour ne conserver que les données \"True\" de ce masque\n",
    "df_light_columns = df_light_columns[mask_vente]"
   ]
  },
  {
   "cell_type": "code",
   "execution_count": 69,
   "metadata": {},
   "outputs": [
    {
     "data": {
      "text/plain": [
       "Vente                                 458571\n",
       "Vente terrain à bâtir                      0\n",
       "Vente en l'état futur d'achèvement         0\n",
       "Expropriation                              0\n",
       "Echange                                    0\n",
       "Adjudication                               0\n",
       "Name: Nature mutation, dtype: int64"
      ]
     },
     "execution_count": 69,
     "metadata": {},
     "output_type": "execute_result"
    }
   ],
   "source": [
    "# Vérifions\n",
    "df_light_columns[\"Nature mutation\"].value_counts()"
   ]
  },
  {
   "cell_type": "code",
   "execution_count": 70,
   "metadata": {},
   "outputs": [
    {
     "data": {
      "text/plain": [
       "2933"
      ]
     },
     "execution_count": 70,
     "metadata": {},
     "output_type": "execute_result"
    }
   ],
   "source": [
    "# Combien de lignes venons-nous d'ignorer ?\n",
    "461504-458571\n"
   ]
  },
  {
   "cell_type": "markdown",
   "metadata": {},
   "source": [
    "=> Prochaine étape ... Sprint 2"
   ]
  },
  {
   "cell_type": "code",
   "execution_count": null,
   "metadata": {},
   "outputs": [],
   "source": []
  }
 ],
 "metadata": {
  "kernelspec": {
   "display_name": "Python 3",
   "language": "python",
   "name": "python3"
  },
  "language_info": {
   "codemirror_mode": {
    "name": "ipython",
    "version": 3
   },
   "file_extension": ".py",
   "mimetype": "text/x-python",
   "name": "python",
   "nbconvert_exporter": "python",
   "pygments_lexer": "ipython3",
   "version": "3.8.5"
  }
 },
 "nbformat": 4,
 "nbformat_minor": 4
}
